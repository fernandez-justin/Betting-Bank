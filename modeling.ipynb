{
 "cells": [
  {
   "cell_type": "code",
   "execution_count": 28,
   "metadata": {},
   "outputs": [],
   "source": [
    "import pandas as pd\n",
    "import matplotlib.pyplot as plt\n",
    "import numpy as np\n",
    "import seaborn as sns\n",
    "pd.set_option('display.max_rows', 500)\n",
    "pd.set_option('display.max_columns',500)\n",
    "\n",
    "import warnings\n",
    "warnings.filterwarnings('ignore')\n",
    "\n",
    "from sklearn.model_selection import train_test_split\n",
    "from sklearn.neighbors import KNeighborsClassifier\n",
    "from sklearn.preprocessing import StandardScaler\n",
    "from sklearn.linear_model import LogisticRegression\n",
    "from sklearn.ensemble import RandomForestClassifier\n",
    "from sklearn.tree import DecisionTreeClassifier\n",
    "import xgboost as xgb\n",
    "\n",
    "from sklearn.metrics import mean_squared_error,accuracy_score, f1_score, roc_auc_score, recall_score, precision_score\n",
    "from sklearn.model_selection import cross_val_score\n",
    "from sklearn.feature_selection import RFECV\n",
    "from sklearn.feature_selection import SelectKBest, f_regression,mutual_info_regression\n",
    "from sklearn.feature_selection import chi2, f_classif, mutual_info_classif\n",
    "from sklearn.model_selection import GridSearchCV, RandomizedSearchCV, KFold"
   ]
  },
  {
   "cell_type": "code",
   "execution_count": 29,
   "metadata": {},
   "outputs": [],
   "source": [
    "df_agg = pd.read_csv('data/aggregate_data.csv')\n",
    "df_agg.drop(columns='Unnamed: 0',inplace=True)\n",
    "df_norm = pd.read_csv('data/pbp_data_mvp.csv')\n",
    "df_norm.drop(columns='Unnamed: 0',inplace=True)"
   ]
  },
  {
   "cell_type": "code",
   "execution_count": 30,
   "metadata": {
    "scrolled": true
   },
   "outputs": [
    {
     "data": {
      "text/plain": [
       " 1    25777\n",
       " 0    22787\n",
       "-1        4\n",
       "Name: target, dtype: int64"
      ]
     },
     "execution_count": 30,
     "metadata": {},
     "output_type": "execute_result"
    }
   ],
   "source": [
    "df_norm.target.value_counts()"
   ]
  },
  {
   "cell_type": "markdown",
   "metadata": {},
   "source": [
    "### Attaching Target to aggregate Data"
   ]
  },
  {
   "cell_type": "code",
   "execution_count": 31,
   "metadata": {},
   "outputs": [],
   "source": [
    "info_for_attaching_to_agg = df_norm[['Date','home_team','away_team','target']]"
   ]
  },
  {
   "cell_type": "code",
   "execution_count": 32,
   "metadata": {},
   "outputs": [],
   "source": [
    "df_agg = df_agg.merge(info_for_attaching_to_agg,how='left',on=['Date','home_team','away_team'])"
   ]
  },
  {
   "cell_type": "markdown",
   "metadata": {},
   "source": [
    "# Base Modeling"
   ]
  },
  {
   "cell_type": "markdown",
   "metadata": {},
   "source": [
    "## Normal (non-aggregate) data"
   ]
  },
  {
   "cell_type": "code",
   "execution_count": 33,
   "metadata": {},
   "outputs": [],
   "source": [
    "def baseline_prediction(X,y):\n",
    "    # Train test split\n",
    "    X_train, X_test, y_train, y_test = train_test_split(X,y,random_state=99)\n",
    "\n",
    "    # Scaling is Needed for Knn\n",
    "    scaler = StandardScaler()  \n",
    "    scaler.fit(X_train)\n",
    "\n",
    "    X_train_scaled = scaler.transform(X_train)  \n",
    "    X_test_scaled = scaler.transform(X_test)\n",
    "\n",
    "    # Logistic Regression\n",
    "    lr_base = LogisticRegression(random_state=99)\n",
    "    lr_base.fit(X_train,y_train)\n",
    "    pred_lr_base = lr_base.predict(X_train)\n",
    "    score_lr_base = accuracy_score(y_train,pred_lr_base)\n",
    "    print('Logistic Regression Accuracy: {}'.format(score_lr_base))\n",
    "\n",
    "    pred_lr_base_test = lr_base.predict(X_test)\n",
    "    score_lr_base_test = accuracy_score(y_test,pred_lr_base_test)\n",
    "    print('Logistic Regression Test Accuracy: {}'.format(score_lr_base_test))\n",
    "    \n",
    "    # KNN\n",
    "    knn_base = KNeighborsClassifier()\n",
    "    knn_base.fit(X_train_scaled,y_train)\n",
    "    pred_knn_base = knn_base.predict(X_train_scaled)\n",
    "    score_knn_base = accuracy_score(y_train,pred_knn_base)\n",
    "    print('KNN Accuracy: {}'.format(score_knn_base))\n",
    "\n",
    "    pred_knn_base_test = knn_base.predict(X_test_scaled)\n",
    "    score_knn_base_test = accuracy_score(y_test,pred_knn_base_test)\n",
    "    print('KNN Test Accuracy: {}'.format(score_knn_base_test))\n",
    "    \n",
    "    # Decision Tree\n",
    "    tree_base = DecisionTreeClassifier(max_depth=15)\n",
    "    tree_base.fit(X_train,y_train)\n",
    "    pred_tree_base = tree_base.predict(X_train)\n",
    "    score_tree_base = accuracy_score(y_train,pred_tree_base)\n",
    "    print('Tree Accuracy: {}'.format(score_tree_base))\n",
    "\n",
    "    pred_tree_base_test = tree_base.predict(X_test)\n",
    "    score_tree_base_test = accuracy_score(y_test,pred_tree_base_test)\n",
    "    print('Tree Test Accuracy: {}'.format(score_tree_base_test))\n",
    "    \n",
    "    # Random Forest\n",
    "    rand_base = RandomForestClassifier()\n",
    "    rand_base.fit(X_train,y_train)\n",
    "    pred_rand_base = rand_base.predict(X_train)\n",
    "    score_rand_base = accuracy_score(y_train,pred_rand_base)\n",
    "    print('Random Forest Accuracy: {}'.format(score_tree_base))\n",
    "\n",
    "    pred_rand_base_test = rand_base.predict(X_test)\n",
    "    score_rand_base_test = accuracy_score(y_test,pred_rand_base_test)\n",
    "    print('Random Forest Test Accuracy: {}'.format(score_rand_base_test))\n",
    "    \n",
    "    #XG Boost\n",
    "    xg_base = xgb.XGBClassifier(objecteve='binary:logistic')\n",
    "    xg_base.fit(X_train,y_train)\n",
    "    pred_xg_base = xg_base.predict(X_train)\n",
    "    score_xg_base = accuracy_score(y_train,pred_xg_base)\n",
    "    print('XGBoost Accuracy: {}'.format(score_xg_base))\n",
    "\n",
    "    pred_xg_base_test = xg_base.predict(X_test)\n",
    "    score_xg_base_test = accuracy_score(y_test,pred_xg_base_test)\n",
    "    print('XGBoost Test Accuracy: {}'.format(score_xg_base_test))"
   ]
  },
  {
   "cell_type": "markdown",
   "metadata": {},
   "source": [
    "## Normal Data"
   ]
  },
  {
   "cell_type": "markdown",
   "metadata": {},
   "source": [
    "#### Dropping non-numeric columns"
   ]
  },
  {
   "cell_type": "code",
   "execution_count": 34,
   "metadata": {
    "scrolled": true
   },
   "outputs": [],
   "source": [
    "cols_to_drop = ['forfeit_info','lf_ump_id','rf_ump_id','protest_info',\n",
    "                'date_game_completed','additional_info','save_pitch_id',\n",
    "                'game_win_rbi_batter_id','game_in_series','away_catch_interference',\n",
    "                'home_catch_interference','away_pitch_balks',\n",
    "                'home_pitch_balks','day_of_week','away_league',\n",
    "                'away_team_game_number','home_league',\n",
    "                'home_team_game_number','day_or_night','park_id',\n",
    "                'attendance','time_of_game','away_line_scores',\n",
    "                'home_line_scores','year','id','outcome',\n",
    "               'Date','away_team','home_team']\n",
    "df_norm.drop(columns=cols_to_drop,inplace=True)\n",
    "df_norm.drop(df_norm.loc[:,'hb_ump_id':'acquisition_info'],axis=1,inplace=True)"
   ]
  },
  {
   "cell_type": "code",
   "execution_count": 35,
   "metadata": {
    "scrolled": false
   },
   "outputs": [],
   "source": [
    "df_norm.replace([np.inf,-np.inf],np.nan,inplace=True)"
   ]
  },
  {
   "cell_type": "code",
   "execution_count": 36,
   "metadata": {},
   "outputs": [],
   "source": [
    "df_norm.dropna(inplace=True)"
   ]
  },
  {
   "cell_type": "code",
   "execution_count": 37,
   "metadata": {},
   "outputs": [],
   "source": [
    "X_norm = df_norm.drop(columns='target')\n",
    "y_norm = df_norm.target"
   ]
  },
  {
   "cell_type": "code",
   "execution_count": 41,
   "metadata": {},
   "outputs": [
    {
     "name": "stdout",
     "output_type": "stream",
     "text": [
      "Logistic Regression Accuracy: 0.5362338807450678\n",
      "Logistic Regression Test Accuracy: 0.5305009092411969\n",
      "KNN Accuracy: 0.6925768764465998\n",
      "KNN Test Accuracy: 0.5055381054719789\n",
      "Tree Accuracy: 0.6330871817480437\n",
      "Tree Test Accuracy: 0.5081005124814019\n",
      "Random Forest Accuracy: 0.6330871817480437\n",
      "Random Forest Test Accuracy: 0.5213258389816499\n",
      "XGBoost Accuracy: 0.5655240824424116\n",
      "XGBoost Test Accuracy: 0.5260373615473632\n"
     ]
    }
   ],
   "source": [
    "baseline_prediction(X_norm,y_norm)"
   ]
  },
  {
   "cell_type": "markdown",
   "metadata": {},
   "source": [
    "## Aggregate data"
   ]
  },
  {
   "cell_type": "markdown",
   "metadata": {},
   "source": [
    "#### Dropping cols for prediction"
   ]
  },
  {
   "cell_type": "code",
   "execution_count": 38,
   "metadata": {},
   "outputs": [],
   "source": [
    "cols_to_drop_agg = ['home_team','away_team','Date']\n",
    "df_agg.drop(columns=cols_to_drop_agg,inplace=True)"
   ]
  },
  {
   "cell_type": "code",
   "execution_count": 39,
   "metadata": {},
   "outputs": [],
   "source": [
    "df_agg.replace([np.inf,-np.inf],np.nan,inplace=True)\n",
    "df_agg.dropna(inplace=True)"
   ]
  },
  {
   "cell_type": "code",
   "execution_count": 40,
   "metadata": {},
   "outputs": [],
   "source": [
    "X_agg = df_agg.drop(columns='target')\n",
    "y_agg = df_agg.target"
   ]
  },
  {
   "cell_type": "code",
   "execution_count": 43,
   "metadata": {},
   "outputs": [
    {
     "name": "stdout",
     "output_type": "stream",
     "text": [
      "Logistic Regression Accuracy: 0.5471378091872792\n",
      "Logistic Regression Test Accuracy: 0.5436718253126988\n",
      "KNN Accuracy: 0.7037455830388692\n",
      "KNN Test Accuracy: 0.5328598685605258\n",
      "Tree Accuracy: 0.7872791519434629\n",
      "Tree Test Accuracy: 0.5370998516005936\n",
      "Random Forest Accuracy: 0.7872791519434629\n",
      "Random Forest Test Accuracy: 0.5328598685605258\n",
      "XGBoost Accuracy: 0.6055830388692579\n",
      "XGBoost Test Accuracy: 0.5534237863048548\n"
     ]
    }
   ],
   "source": [
    "baseline_prediction(X_agg,y_agg)"
   ]
  },
  {
   "cell_type": "markdown",
   "metadata": {},
   "source": [
    "# Feature Selection"
   ]
  },
  {
   "cell_type": "code",
   "execution_count": 25,
   "metadata": {},
   "outputs": [],
   "source": [
    "estimator = LogisticRegression()\n",
    "\n",
    "feature_selector = RFECV(estimator=estimator, step=1, cv=10,n_jobs=-1,min_features_to_select=15)\n",
    "\n",
    "feature_selector.fit(X_train,y_train)\n",
    "\n",
    "selected_wrapper = X_train.columns[feature_selector.support_]"
   ]
  },
  {
   "cell_type": "code",
   "execution_count": 45,
   "metadata": {},
   "outputs": [
    {
     "name": "stdout",
     "output_type": "stream",
     "text": [
      "Logistic Regression Accuracy: 0.5481625441696113\n",
      "Logistic Regression Test Accuracy: 0.543247827008692\n",
      "KNN Accuracy: 0.7068904593639576\n",
      "KNN Test Accuracy: 0.5307398770404919\n",
      "Tree Accuracy: 0.7998939929328622\n",
      "Tree Test Accuracy: 0.5359338562645749\n",
      "Random Forest Accuracy: 0.7998939929328622\n",
      "Random Forest Test Accuracy: 0.5383718465126139\n",
      "XGBoost Accuracy: 0.6054416961130742\n",
      "XGBoost Test Accuracy: 0.5534237863048548\n"
     ]
    }
   ],
   "source": [
    "baseline_prediction(X_agg[selected_wrapper],y_agg)"
   ]
  },
  {
   "cell_type": "markdown",
   "metadata": {},
   "source": [
    "# In Depth Modeling"
   ]
  },
  {
   "cell_type": "markdown",
   "metadata": {},
   "source": [
    "Going to use XG boost for now as it perfomed the best out of all combinations. This will be using the aggregated data."
   ]
  },
  {
   "cell_type": "code",
   "execution_count": null,
   "metadata": {},
   "outputs": [],
   "source": [
    "clf_xgb = xgb.XGBClassifier(objective = 'binary:logistic')\n",
    "param_dist = {'n_estimators': [100,300,500],\n",
    "              'learning_rate': [1,0.1,0.05,0.01],\n",
    "              'max_depth': [3, 5, 7, 10],\n",
    "              'colsample_bytree': [0.5,0.45,0.4],\n",
    "              'min_child_weight': [1, 2, 3]\n",
    "             }\n",
    "gsearch1 = GridSearchCV(\n",
    "    estimator = clf_xgb,\n",
    "    param_grid = param_dist, \n",
    "    scoring='accuracy',\n",
    "    n_jobs=-1,\n",
    "    verbose=1,\n",
    "    iid=False, \n",
    "    cv=5)"
   ]
  },
  {
   "cell_type": "code",
   "execution_count": null,
   "metadata": {},
   "outputs": [],
   "source": [
    "gsearch1.fit(X_train,y_train)"
   ]
  },
  {
   "cell_type": "code",
   "execution_count": 26,
   "metadata": {},
   "outputs": [
    {
     "data": {
      "text/plain": [
       "Index(['home_team_score', 'home_at_bats', 'home_hits', 'home_doubles',\n",
       "       'home_triples', 'home_hrs', 'home_rbi', 'home_sh', 'home_sf',\n",
       "       'home_hbp', 'home_walk', 'home_int_walk', 'home_so', 'home_sb',\n",
       "       'home_cs', 'home_gidp', 'home_left_on_base', 'home_pitchers_used',\n",
       "       'home_pitch_earned_runs', 'home_team_earned_runs',\n",
       "       'home_pitch_wild_pitches', 'home_def_putouts', 'home_def_assists',\n",
       "       'home_def_errors', 'home_def_double_plays', 'home_singles', 'home_PASO',\n",
       "       'home_total_bases', 'home_runs_created', 'home_outcome',\n",
       "       'away_team_score', 'away_at_bats', 'away_hits', 'away_doubles',\n",
       "       'away_triples', 'away_hrs', 'away_rbi', 'away_sh', 'away_sf',\n",
       "       'away_hbp', 'away_walk', 'away_int_walk', 'away_so', 'away_sb',\n",
       "       'away_cs', 'away_gidp', 'away_left_on_base', 'away_pitchers_used',\n",
       "       'away_pitch_earned_runs', 'away_team_earned_runs',\n",
       "       'away_pitch_wild_pitches', 'away_def_putouts', 'away_def_assists',\n",
       "       'away_def_errors', 'away_def_passed_balls', 'away_def_double_plays',\n",
       "       'away_singles', 'away_PASO', 'away_total_bases', 'away_runs_created'],\n",
       "      dtype='object')"
      ]
     },
     "execution_count": 26,
     "metadata": {},
     "output_type": "execute_result"
    }
   ],
   "source": [
    "selected_wrapper"
   ]
  },
  {
   "cell_type": "code",
   "execution_count": null,
   "metadata": {},
   "outputs": [],
   "source": []
  },
  {
   "cell_type": "code",
   "execution_count": null,
   "metadata": {},
   "outputs": [],
   "source": []
  }
 ],
 "metadata": {
  "kernelspec": {
   "display_name": "learn-env",
   "language": "python",
   "name": "learn-env"
  },
  "language_info": {
   "codemirror_mode": {
    "name": "ipython",
    "version": 3
   },
   "file_extension": ".py",
   "mimetype": "text/x-python",
   "name": "python",
   "nbconvert_exporter": "python",
   "pygments_lexer": "ipython3",
   "version": "3.6.9"
  }
 },
 "nbformat": 4,
 "nbformat_minor": 4
}
