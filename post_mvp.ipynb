{
 "cells": [
  {
   "cell_type": "code",
   "execution_count": 11,
   "metadata": {},
   "outputs": [],
   "source": [
    "# imports used to manipulate data and describe the data with plots\n",
    "import pandas as pd\n",
    "import numpy as np\n",
    "import matplotlib.pyplot as plt\n",
    "import warnings\n",
    "warnings.filterwarnings('ignore')\n",
    "\n",
    "pd.set_option('display.max_rows', 500)\n",
    "pd.set_option('display.max_columns', 500)\n",
    "pd.set_option('display.width', 1000)\n",
    "\n",
    "from sklearn.model_selection import train_test_split\n",
    "from sklearn.metrics import accuracy_score\n",
    "import xgboost as xgb"
   ]
  },
  {
   "cell_type": "markdown",
   "metadata": {},
   "source": [
    "# POST MVP"
   ]
  },
  {
   "cell_type": "markdown",
   "metadata": {},
   "source": [
    "MVP\n",
    "- created two data sets\n",
    "    - game by game statistics (each row accounts for a single game)\n",
    "    - aggregated statistics (each row accounts for all games up to that game)\n",
    "- feature selection process that produced similar but slightly worse predictions\n",
    "- xgboost model predicting with 58% accuracy\n",
    "\n",
    "Post MVP plans\n",
    "- make predicitons on a single season\n",
    "- identify optimal number of games for statistics to aggregate\n",
    "- neural net for predictions\n",
    "- allow game by game predictions usable with gui or interface of some sort"
   ]
  },
  {
   "cell_type": "markdown",
   "metadata": {},
   "source": [
    "# Single Season Predictions\n",
    "For this experiment I am going to be using the best performing model (XGBoost) with optimal parameters to make predictions on a single season. The test set is going to be the 2019 season."
   ]
  },
  {
   "cell_type": "code",
   "execution_count": 24,
   "metadata": {},
   "outputs": [],
   "source": [
    "# importing aggregate data and dropping unnamed\n",
    "df = pd.read_csv('data/agg_data_final.csv')\n",
    "# away outcome dropped becuase predicting based on home team\n",
    "df.drop(columns=['Unnamed: 0','away_outcome_nonagg'],inplace=True)"
   ]
  },
  {
   "cell_type": "code",
   "execution_count": 25,
   "metadata": {},
   "outputs": [],
   "source": [
    "# convering date column from object to datetime\n",
    "df.Date = pd.to_datetime(df.Date,format='%Y-%m-%d')"
   ]
  },
  {
   "cell_type": "code",
   "execution_count": 90,
   "metadata": {},
   "outputs": [],
   "source": [
    "# creating train test split manually\n",
    "train_set = df[(df.Date.dt.year != 2019)]\n",
    "test_set = df[(df.Date.dt.year == 2019)]\n",
    "\n",
    "# going to order test set because if used in real time would only have games coming in order of date\n",
    "test_set.sort_values(by=['Date'],inplace=True)\n",
    "\n",
    "# going to drop the first 10 games of each season from train\n",
    "train_set = train_set[(df.game_number_of_season > 10)]"
   ]
  },
  {
   "cell_type": "code",
   "execution_count": 91,
   "metadata": {},
   "outputs": [],
   "source": [
    "# creating x and y from train (all games not in 2019)\n",
    "X_train = train_set.drop(columns='home_outcome_nonagg')\n",
    "y_train = train_set['home_outcome_nonagg']\n",
    "\n",
    "# creating x and y from test (all 2019 games)\n",
    "X_test = test_set.drop(columns='home_outcome_nonagg')\n",
    "y_test = test_set['home_outcome_nonagg']"
   ]
  },
  {
   "cell_type": "code",
   "execution_count": 92,
   "metadata": {},
   "outputs": [
    {
     "data": {
      "text/plain": [
       "XGBClassifier(learning_rate=0.01, max_depth=5, min_child_weight=2,\n",
       "              n_estimators=300, objective='multi:softprob')"
      ]
     },
     "execution_count": 92,
     "metadata": {},
     "output_type": "execute_result"
    }
   ],
   "source": [
    "xgb_model = xgb.XGBClassifier(objective = 'binary:logistic',\n",
    "                                 learning_rate = 0.01,\n",
    "                                 max_depth = 5,\n",
    "                                 min_child_weight = 2,\n",
    "                                 n_estimators = 300)\n",
    "# dropping 3 columns that are not used for prediction\n",
    "xgb_model.fit(X_train.drop(columns=['home_team','away_team','Date']),\n",
    "              y_train)"
   ]
  },
  {
   "cell_type": "code",
   "execution_count": 93,
   "metadata": {},
   "outputs": [
    {
     "name": "stdout",
     "output_type": "stream",
     "text": [
      "Train Accuracy: 0.617475\n",
      "Test Accuracy: 0.598616\n"
     ]
    }
   ],
   "source": [
    "xgb_model_predictions_train = xgb_model.predict(X_train.drop(columns=['home_team','away_team','Date']))\n",
    "xgb_model_predictions_test = xgb_model.predict(X_test.drop(columns=['home_team','away_team','Date']))\n",
    "train_acc = accuracy_score(y_train, xgb_model_predictions_train)\n",
    "test_acc = accuracy_score(y_test, xgb_model_predictions_test)\n",
    "print(\"Train Accuracy: %f\" % (train_acc))\n",
    "print(\"Test Accuracy: %f\" % (test_acc))"
   ]
  },
  {
   "cell_type": "code",
   "execution_count": 80,
   "metadata": {},
   "outputs": [
    {
     "name": "stdout",
     "output_type": "stream",
     "text": [
      "Number of games right: 1730\n",
      "Number of games wrong: 1160\n",
      "Best rolling game streak: 0.82\n",
      "Season Accuracy: 0.5986159169550173\n"
     ]
    }
   ],
   "source": [
    "# looking at when we are predicting the best\n",
    "# accuracy over whole season\n",
    "accuracy_whole = 0\n",
    "# past games right or wrongs\n",
    "game_preds = []\n",
    "# list to hold game rolling accuracy throuhgout whole season to see how we do as season goes on\n",
    "accuracy_rolling_season = []\n",
    "# number of games seen\n",
    "num_of_games = 0\n",
    "# correct predictions\n",
    "num_right = 0\n",
    "# wrong predictions\n",
    "num_wrong = 0\n",
    "# number of games for rolling\n",
    "rolling_number = 50\n",
    "\n",
    "for true,pred in zip(y_test,xgb_model_predictions_test):\n",
    "    # after seeing rolling number of games\n",
    "    if num_of_games > rolling_number:\n",
    "        # get rid of least recent game, using append so most recent game at end\n",
    "        game_preds = game_preds[1:]\n",
    "    # every period of rolling games calculate the rolling accuracy\n",
    "    if num_of_games % rolling_number == 0:\n",
    "        # calcuate rolling game accuracy and append to season list\n",
    "        accuracy_rolling_season.append(sum(game_preds)/rolling_number)\n",
    "    # one more game seen\n",
    "    num_of_games +=1\n",
    "    # correct prediction\n",
    "    if pred == true:\n",
    "        num_right += 1\n",
    "        game_preds.append(1)\n",
    "    # wrong prediction\n",
    "    else:\n",
    "        num_wrong +=1\n",
    "        game_preds.append(0)\n",
    "accuracy_whole = num_right/num_of_games\n",
    "\n",
    "print('Number of games right: {}'.format(num_right))\n",
    "print('Number of games wrong: {}'.format(num_wrong))\n",
    "print('Best rolling game streak: {}'.format(max(accuracy_rolling_season)))\n",
    "print('Season Accuracy: {}'.format(accuracy_whole))"
   ]
  },
  {
   "cell_type": "code",
   "execution_count": 108,
   "metadata": {},
   "outputs": [
    {
     "data": {
      "image/png": "[encoded data removed]",
      "text/plain": [
       "<Figure size 432x432 with 1 Axes>"
      ]
     },
     "metadata": {
      "needs_background": "light"
     },
     "output_type": "display_data"
    }
   ],
   "source": [
    "fig,ax = plt.subplots(figsize=(6,6))\n",
    "ax.plot(accuracy_rolling_season,color='red')\n",
    "ax.set_xlabel('Sets of 50 Games Seen')\n",
    "ax.set_ylabel('Accuracy Over 50 Games')\n",
    "ax.set_yticks(np.linspace(0,1,11))\n",
    "ax.set_xticks(range(0,round(num_of_games/50),5))\n",
    "ax.set_title('Accuracy over Season (50 Game Splits)')\n",
    "ax.grid();"
   ]
  },
  {
   "cell_type": "markdown",
   "metadata": {},
   "source": [
    "# Optimal Game Number Buffer\n",
    "When using aggregated statistics it is useful to not predict on the games at the start of the season as the aggregated statistics have not had enought time to really show how well that team performs. Allowing a 10 game buffer would allow us to build up the statistics and then by the 11th game we have a much better idea on how each team will perform allowing for better predictions."
   ]
  },
  {
   "cell_type": "code",
   "execution_count": 157,
   "metadata": {},
   "outputs": [],
   "source": [
    "def xg_prediction(buffer):\n",
    "    # creating train test split manually\n",
    "    X = df.drop(columns='home_outcome_nonagg')\n",
    "    y = df.home_outcome_nonagg\n",
    "    \n",
    "    X_train, X_test, y_train, y_test = train_test_split(X,y,random_state=49)\n",
    "    # get rid of games in train before buffer number\n",
    "    # combine x and y so they dont get mixed\n",
    "    train = pd.concat([X_train,y_train],axis=1)\n",
    "    # get rid of games before buffer game number\n",
    "    train = train[(train.game_number_of_season>buffer)]\n",
    "    # make x and y train\n",
    "    X_train = train.drop(columns='home_outcome_nonagg')\n",
    "    y_train = train.home_outcome_nonagg\n",
    "    \n",
    "    \n",
    "    #run model\n",
    "    xgb_model_buffer = xgb.XGBClassifier(objective = 'binary:logistic',\n",
    "                                 learning_rate = 0.01,\n",
    "                                 max_depth = 5,\n",
    "                                 min_child_weight = 2,\n",
    "                                 n_estimators = 300)\n",
    "    # dropping 3 columns that are not used for prediction\n",
    "    xgb_model_buffer.fit(X_train.drop(columns=['home_team','away_team','Date']),\n",
    "                  y_train)\n",
    "    \n",
    "    xgb_model_buffer_predictions_train = xgb_model_buffer.predict(X_train.drop(columns=['home_team','away_team','Date']))\n",
    "    xgb_model_buffer_predictions_test = xgb_model_buffer.predict(X_test.drop(columns=['home_team','away_team','Date']))\n",
    "    train_acc_buffer = accuracy_score(y_train, xgb_model_buffer_predictions_train)\n",
    "    test_acc_buffer = accuracy_score(y_test, xgb_model_buffer_predictions_test)\n",
    "    print(\"Train Accuracy: %f\" % (train_acc_buffer))\n",
    "    print(\"Test Accuracy: %f\" % (test_acc_buffer))\n",
    "    return train_acc,test_acc"
   ]
  },
  {
   "cell_type": "code",
   "execution_count": 158,
   "metadata": {
    "scrolled": true
   },
   "outputs": [
    {
     "name": "stdout",
     "output_type": "stream",
     "text": [
      "Train Accuracy: 0.624246\n",
      "Test Accuracy: 0.583405\n",
      "Train Accuracy: 0.625509\n",
      "Test Accuracy: 0.579314\n",
      "Train Accuracy: 0.627203\n",
      "Test Accuracy: 0.573572\n",
      "Train Accuracy: 0.628108\n",
      "Test Accuracy: 0.575510\n",
      "Train Accuracy: 0.628865\n",
      "Test Accuracy: 0.574218\n",
      "Train Accuracy: 0.637930\n",
      "Test Accuracy: 0.575366\n",
      "Train Accuracy: 0.639208\n",
      "Test Accuracy: 0.572208\n"
     ]
    }
   ],
   "source": [
    "scores_per_buffer = []\n",
    "for buffer in range(0,35,5):\n",
    "    train_acc,test_acc = xg_prediction(buffer)\n",
    "    scores_per_buffer.append((train_acc,test_acc))"
   ]
  },
  {
   "cell_type": "markdown",
   "metadata": {},
   "source": [
    "From this we can see that as we reduce the number of games seen when fitting the model the better we perfom on the training set but the worse we perform on the test set. This means that in the training set we should keep the entire dataset for training."
   ]
  },
  {
   "cell_type": "code",
   "execution_count": null,
   "metadata": {},
   "outputs": [],
   "source": []
  },
  {
   "cell_type": "markdown",
   "metadata": {},
   "source": [
    "# Optimal Game Number to start predicting"
   ]
  },
  {
   "cell_type": "code",
   "execution_count": 167,
   "metadata": {},
   "outputs": [
    {
     "name": "stdout",
     "output_type": "stream",
     "text": [
      "Train Accuracy: 0.624246\n",
      "Test Accuracy: 0.583405\n"
     ]
    }
   ],
   "source": [
    "# creating train test split manually\n",
    "X = df.drop(columns='home_outcome_nonagg')\n",
    "y = df.home_outcome_nonagg\n",
    "\n",
    "X_train, X_test, y_train, y_test = train_test_split(X,y,random_state=49)\n",
    "\n",
    "#run model\n",
    "xgb_model_buffer = xgb.XGBClassifier(objective = 'binary:logistic',\n",
    "                             learning_rate = 0.01,\n",
    "                             max_depth = 5,\n",
    "                             min_child_weight = 2,\n",
    "                             n_estimators = 300)\n",
    "# dropping 3 columns that are not used for prediction\n",
    "xgb_model_buffer.fit(X_train.drop(columns=['home_team','away_team','Date']),\n",
    "              y_train)\n",
    "\n",
    "xgb_model_buffer_predictions_train = xgb_model_buffer.predict(X_train.drop(columns=['home_team','away_team','Date']))\n",
    "xgb_model_buffer_predictions_test = xgb_model_buffer.predict(X_test.drop(columns=['home_team','away_team','Date']))\n",
    "train_acc_buffer = accuracy_score(y_train, xgb_model_buffer_predictions_train)\n",
    "test_acc_buffer = accuracy_score(y_test, xgb_model_buffer_predictions_test)\n",
    "print(\"Train Accuracy: %f\" % (train_acc_buffer))\n",
    "print(\"Test Accuracy: %f\" % (test_acc_buffer))"
   ]
  },
  {
   "cell_type": "code",
   "execution_count": 168,
   "metadata": {},
   "outputs": [
    {
     "name": "stdout",
     "output_type": "stream",
     "text": [
      "(13932, 81)\n",
      "Test Accuracy: 0.5834051105368935 with buffer 0\n",
      "(13123, 81)\n",
      "Test Accuracy: 0.5850796311818944 with buffer 5\n",
      "(12297, 81)\n",
      "Test Accuracy: 0.5844514922338782 with buffer 10\n",
      "(11465, 81)\n",
      "Test Accuracy: 0.5861317051897078 with buffer 15\n",
      "(10594, 81)\n",
      "Test Accuracy: 0.589012648669058 with buffer 20\n",
      "(9795, 81)\n",
      "Test Accuracy: 0.5883614088820827 with buffer 25\n",
      "(8949, 81)\n",
      "Test Accuracy: 0.5925801765560398 with buffer 30\n",
      "(8117, 81)\n",
      "Test Accuracy: 0.5954170259948257 with buffer 35\n",
      "(7235, 81)\n",
      "Test Accuracy: 0.596682791983414 with buffer 40\n",
      "(6385, 81)\n",
      "Test Accuracy: 0.5970242756460454 with buffer 45\n",
      "(5515, 81)\n",
      "Test Accuracy: 0.600362647325476 with buffer 50\n",
      "(4676, 81)\n",
      "Test Accuracy: 0.6002994011976048 with buffer 55\n",
      "(3787, 81)\n",
      "Test Accuracy: 0.5996831264853446 with buffer 60\n",
      "(2908, 81)\n",
      "Test Accuracy: 0.5993810178817056 with buffer 65\n",
      "(2017, 81)\n",
      "Test Accuracy: 0.6078334159643034 with buffer 70\n",
      "(1124, 81)\n",
      "Test Accuracy: 0.6263345195729537 with buffer 75\n",
      "(145, 81)\n",
      "Test Accuracy: 0.6413793103448275 with buffer 80\n"
     ]
    }
   ],
   "source": [
    "\n",
    "for buffer in range(0,85,5):\n",
    "    test = pd.concat([X_test,y_test],axis=1)\n",
    "    # get rid of games before buffer game number\n",
    "    test = test[(test.game_number_of_season>buffer)]\n",
    "    print(test.shape)\n",
    "    # make x and y train\n",
    "    X_test = test.drop(columns='home_outcome_nonagg')\n",
    "    y_test = test.home_outcome_nonagg\n",
    "    xgb_model_buffer_predictions_test = xgb_model_buffer.predict(X_test.drop(columns=['home_team','away_team','Date']))\n",
    "    test_acc_buffer = accuracy_score(y_test, xgb_model_buffer_predictions_test)\n",
    "    print(\"Test Accuracy: {} with buffer {}\".format(test_acc_buffer,buffer))"
   ]
  },
  {
   "cell_type": "markdown",
   "metadata": {},
   "source": [
    "From this we can see that as time goes on we greatly improve accuracy on the test set. This means that as the season goes on we have a much better chance of predicting the outcome correctly."
   ]
  },
  {
   "cell_type": "code",
   "execution_count": null,
   "metadata": {},
   "outputs": [],
   "source": []
  }
 ],
 "metadata": {
  "kernelspec": {
   "display_name": "learn-env",
   "language": "python",
   "name": "learn-env"
  },
  "language_info": {
   "codemirror_mode": {
    "name": "ipython",
    "version": 3
   },
   "file_extension": ".py",
   "mimetype": "text/x-python",
   "name": "python",
   "nbconvert_exporter": "python",
   "pygments_lexer": "ipython3",
   "version": "3.6.9"
  }
 },
 "nbformat": 4,
 "nbformat_minor": 4
}
