{
 "cells": [
  {
   "cell_type": "markdown",
   "metadata": {},
   "source": [
    "# Overview"
   ]
  },
  {
   "cell_type": "markdown",
   "metadata": {},
   "source": [
    "Major League Baseball(MLB) has been organizing and playing professional baseball since 1903 and will continue to do so for the foreseable future. With this many years and hundreds of thousands of games played there must be a way to predict who is going to win each game with a high degree of accuracy. With sports betting becoming more popular throughout the United States in the past 10 years due to legalization in many states, there is even more of a push to find a way to predict the outcome of these games. This project seeks to answer what factors lead to a team winning and also building a model that can predict the outcome.\n"
   ]
  },
  {
   "cell_type": "markdown",
   "metadata": {},
   "source": [
    "# Business Case\n",
    "\n",
    "The sports betting industry has been skyrocketing in value due to the addition of millions of participants in each state due to the legalization of sports betting. There are still many people who are hesitant to risk their money on something they believe to be a coin toss. This project seeks to help those who cannot afford to spend large amounts of time studying the game of baseball by providing an indication as to what team will be victorious. In turn this will get more people on betting sites and no matter the outcome, the betting organizations will increase profit due to the increase in bets."
   ]
  },
  {
   "cell_type": "markdown",
   "metadata": {},
   "source": [
    "# Data Collection / Creation"
   ]
  },
  {
   "cell_type": "markdown",
   "metadata": {},
   "source": [
    "The dataset used in this project was created through the use of [retrosheet.org](https://www.retrosheet.org/) as it has one of the largest collection of MLB statistics and records from the past 100+ years of play. The collected statistics try and capture what happened in the game in terms of batting, fielding, and pitching and can give an indication as to why one team performed better than the other."
   ]
  },
  {
   "cell_type": "markdown",
   "metadata": {},
   "source": [
    "The dataset includes features about how each team perfomed in every game leading up to the game that we are predicting the outcome of. This inlcudes features on how that team has batted with statistics like batting average, on base percentage, and commonly recorded statistics like hits, singles, doubles, and many more. Pitching statistics are also being used such as earned runs average, number of pitchers used, and strikeouts. Lastly, fielding statsistics like putouts, assists, and passed balls are used round out the last aspect of the game."
   ]
  },
  {
   "cell_type": "markdown",
   "metadata": {},
   "source": [
    "First we must create the normal game-by-game data frame. Each row will be the statistics of the home and away team."
   ]
  },
  {
   "cell_type": "code",
   "execution_count": 2,
   "metadata": {},
   "outputs": [],
   "source": [
    "# imports used to manipulate data and describe the data with plots\n",
    "import pandas as pd\n",
    "import numpy as np\n",
    "import matplotlib.pyplot as plt\n",
    "import warnings\n",
    "warnings.filterwarnings('ignore')"
   ]
  },
  {
   "cell_type": "code",
   "execution_count": 3,
   "metadata": {},
   "outputs": [],
   "source": [
    "# these are the columns of the data frame\n",
    "# these are year-spanning stats\n",
    "from dataframe_creation import get_pbp_columns\n",
    "columns = get_pbp_columns()\n",
    "# all years that the data is from\n",
    "years = list(range(2000,2020))"
   ]
  },
  {
   "cell_type": "code",
   "execution_count": 4,
   "metadata": {},
   "outputs": [],
   "source": [
    "# importing the data from each file\n",
    "# the files are done year by year\n",
    "df = pd.DataFrame()\n",
    "for year in years:\n",
    "    url = 'data/retro_data/year_games/GL{}.txt'.format(year)\n",
    "    temp = pd.read_csv(url)\n",
    "    temp.columns = columns\n",
    "    df = df.append(temp)"
   ]
  },
  {
   "cell_type": "markdown",
   "metadata": {},
   "source": [
    "Some teams in the past 20 years have swtiched their name so the tag changed. Here are those changes:\n",
    "* Florida Marlins (FLO) -> Miami Marlins (MIA)\n",
    "* Montreal Expos (MON) -> Washinton Nationals (WAS)"
   ]
  },
  {
   "cell_type": "code",
   "execution_count": 5,
   "metadata": {},
   "outputs": [],
   "source": [
    "# changing those team names\n",
    "df = df.applymap(lambda x: \"WAS\" if x=='MON'else ('MIA' if x=='FLO' else x))"
   ]
  },
  {
   "cell_type": "markdown",
   "metadata": {},
   "source": [
    "Now that we have our base data set we are going to create some new features that seek to capture more information on the game."
   ]
  },
  {
   "cell_type": "markdown",
   "metadata": {},
   "source": [
    "From this we can see that the aggregate data performs better than the normal per game statistics data. The reason for this improvement is each team is not being assesed on only their previous game but all previous games that season. A team is not how well they did last game but how well they have been doing that season. One off game can throw off predictions. Logistic regression and XGBoost are going to be futher improved due to their accuracy in these intial tests."
   ]
  },
  {
   "cell_type": "markdown",
   "metadata": {},
   "source": [
    "# Feature Engineering"
   ]
  },
  {
   "cell_type": "markdown",
   "metadata": {},
   "source": [
    "Since the start of baseball, statisticians have been trying to create statistics that capture more information on what is happening in the game than the standard ones. A revolutionary set of statistics created by the [Society for American Baseball Research](https://sabr.org/sabermetrics) (SABR), known as sabermetrics, have been the most impactful to the understanding of baseball. These include weighted on base percentage, fielding independent pitching, batting average on balls in play, and many more. I will be creating some of these in this section."
   ]
  },
  {
   "cell_type": "code",
   "execution_count": 6,
   "metadata": {},
   "outputs": [],
   "source": [
    "# converting to date time\n",
    "df.Date = pd.to_datetime(df.Date,format='%Y%m%d')\n",
    "# creating a game id that can be used for indetification of each game\n",
    "df['id'] = df['home_team']+df.Date.dt.year.astype('str') + df.Date.dt.month.astype('str') + df.Date.dt.day.astype('str')\n",
    "# creating year column for grouping\n",
    "df['year'] = df.Date.map(lambda x: x.year)\n",
    "# outcome of game in terms of home team  loosing (0) or winning (1)\n",
    "# have to change score to int\n",
    "df.home_team_score.astype('int')\n",
    "df.away_team_score.astype('int')\n",
    "cond = [\n",
    "    df.home_team_score > df.away_team_score,\n",
    "    df.away_team_score > df.home_team_score\n",
    "]\n",
    "outcome = [\n",
    "    1, # home wins\n",
    "    0  # away wins\n",
    "]\n",
    "df['home_outcome'] = np.select(cond,outcome,default = -1)\n",
    "# outcome of game in terms of away team  loosing (0) or winning (1)\n",
    "cond = [\n",
    "    df.away_team_score > df.home_team_score, # away wins\n",
    "    df.home_team_score > df.away_team_score  # home wins\n",
    "]\n",
    "outcome = [\n",
    "    1, # away wins\n",
    "    0  # home wins\n",
    "]\n",
    "df['away_outcome'] = np.select(cond,outcome,default = -1)\n",
    "# OBP = (Hits + Walks + Hit by Pitch) / (At Bats + Walks + Hit by Pitch + Sacrifice Flies)\n",
    "df['home_OBP'] = (df.home_hits + df.home_walk + df.home_hbp) / (df.home_at_bats + df.home_walk + df.home_hbp + df.home_sf)\n",
    "df['away_OBP'] = (df.away_hits + df.away_walk + df.away_hbp) / (df.away_at_bats + df.away_walk + df.away_hbp + df.away_sf)\n",
    "# AVG = hits / at bats\n",
    "df['home_AVG'] = df.home_hits / df.home_at_bats\n",
    "df['away_AVG'] = df.away_hits / df.away_at_bats\n",
    "# singles = hits - (doubles + triples + hr)\n",
    "df['home_singles'] = df.home_hits - (df.home_doubles + df.home_triples + df.home_hrs)\n",
    "df['away_singles'] = df.away_hits - (df.away_doubles + df.away_triples + df.away_hrs)\n",
    "# SLG = singles + 2 x doubles (2B) + 3 x triples (3B) + 4 x home runs (HR) / AB\n",
    "df['home_SLG'] = (df.home_singles + 2*df.home_doubles + 3*df.home_triples + 4*df.home_hrs) / df.home_at_bats\n",
    "df['away_SLG'] = (df.away_singles + 2*df.away_doubles + 3*df.away_triples + 4*df.away_hrs) / df.away_at_bats\n",
    "# BABIP = (H - HR)/(AB - K - HR + SF)\n",
    "df['home_BABIP'] = (df.home_hits - df.home_hrs) / (df.home_at_bats - df.home_so - df.home_hrs + df.home_sf)\n",
    "df['away_BABIP'] = (df.away_hits - df.away_hrs) / (df.away_at_bats - df.away_so - df.away_hrs + df.away_sf)\n",
    "# ISO = (1x2B + 2x3B + 3xHR) / At-bats OR Slugging percentage - Batting average\n",
    "df['home_ISO'] = df.home_SLG - df.home_AVG\n",
    "df['away_ISO'] = df.away_SLG - df.away_AVG\n",
    "# PA/SO = total plate appearances by his number of strikeouts\n",
    "df['home_PASO'] = df.home_at_bats / df.home_so\n",
    "df['away_PASO'] = df.away_at_bats / df.away_so\n",
    "# TB = 1x1B + 2x2B + 3x3B + 4x4B\n",
    "df['home_total_bases'] = df.home_singles + (2*df.home_doubles) + (3*df.home_triples) + (4*df.home_hrs)\n",
    "df['away_total_bases'] = df.away_singles + (2*df.away_doubles) + (3*df.away_triples) + (4*df.away_hrs)\n",
    "# RC = (TB x (H + BB)) / (AB + BB)\n",
    "df['home_runs_created'] = ( df.home_total_bases * (df.home_hits + df.home_walk)) / (df.home_at_bats + df.home_walk)\n",
    "df['away_runs_created'] = ( df.away_total_bases * (df.away_hits + df.away_walk)) / (df.away_at_bats + df.away_walk)\n",
    "# wOBA = 0.69 x NIzBB + 0.72 x HBP + 0.89. x 1B + 1.27 x 2B + 1.62 x 3B + 2.10 x HR / AB + BB - IBB + SF + HBP\n",
    "df['home_wOBA'] = ((0.69*df.home_walk)+(0.72 * df.home_hbp) + (0.89 * df.home_singles) + (1.27 * df.home_doubles) + (1.62 * df.home_triples) + (2.10 * df.home_hrs)) / (df.home_at_bats+df.home_walk - df.home_int_walk + df.home_sf + df.home_hbp)\n",
    "df['away_wOBA'] = ((0.69*df.away_walk)+(0.72 * df.away_hbp) + (0.89 * df.away_singles) + (1.27 * df.away_doubles) + (1.62 * df.away_triples) + (2.10 * df.away_hrs)) / (df.away_at_bats+df.away_walk - df.away_int_walk + df.away_sf + df.away_hbp)"
   ]
  },
  {
   "cell_type": "markdown",
   "metadata": {},
   "source": [
    "#### Game Number of that Season\n",
    "It is important to assign what game number that is for that season as the cumulative stats (that will be created later) should only be used after the first couple games (will be using games after the first 10). All the code for these functions can be found in `feature_engineering.ipynb`."
   ]
  },
  {
   "cell_type": "code",
   "execution_count": 7,
   "metadata": {},
   "outputs": [],
   "source": [
    "# creating an empty dictionary so that the games of each team can be split by year\n",
    "test_dict = {}\n",
    "# all years that the data is from\n",
    "year_list = list(range(2000,2020,1))\n",
    "team_list = df.home_team.unique()\n",
    "for year in year_list:\n",
    "    test_dict[year] = {}\n",
    "    for team in team_list:\n",
    "        test_dict[year][team] = []"
   ]
  },
  {
   "cell_type": "code",
   "execution_count": 8,
   "metadata": {},
   "outputs": [],
   "source": [
    "# inserting games into the correct container\n",
    "# sorted by year the team\n",
    "for index,row in df.iterrows():\n",
    "    test_dict[row.year][row.home_team].append(row.id)"
   ]
  },
  {
   "cell_type": "code",
   "execution_count": 9,
   "metadata": {},
   "outputs": [],
   "source": [
    "game_number_list = []\n",
    "# iterating through each year/team and assigning the game number (1-81)\n",
    "for year in test_dict:\n",
    "    for team in test_dict[year]:\n",
    "        counter=1\n",
    "        for game in test_dict[year][team]:\n",
    "            game_number_list.append([game,counter])\n",
    "            #df[(df.id == game)]['game_number_of_season'] = counter\n",
    "            #print(df[(df.id == game)]['game_number_of_season'],end=' ')\n",
    "            counter+=1\n",
    "add_on_df = pd.DataFrame(game_number_list,columns=['id','game_number_of_season'])\n",
    "df = df.merge(add_on_df,how='left',on='id')"
   ]
  },
  {
   "cell_type": "code",
   "execution_count": 10,
   "metadata": {},
   "outputs": [],
   "source": [
    "from dataframe_creation import create_home_won_prev, create_away_won_prev\n",
    "df['home_won_last_game'] = create_home_won_prev(df)\n",
    "df['away_won_last_game'] = create_home_won_prev(df)"
   ]
  },
  {
   "cell_type": "markdown",
   "metadata": {},
   "source": [
    "In order to capture how a team is doing up until that point in the year the data must be aggregated so that every row describes how that team has performed up until that point."
   ]
  },
  {
   "cell_type": "code",
   "execution_count": 11,
   "metadata": {},
   "outputs": [],
   "source": [
    "from dataframe_creation import create_win_next_game\n",
    "df['target'] = create_win_next_game(df)"
   ]
  },
  {
   "cell_type": "markdown",
   "metadata": {},
   "source": [
    "#### What are the aggregated statistics\n",
    "The way that the aggregated stats are calculated are completelty different than the stats of the normal non-aggregated table. For aggregated stats the varibales are the average of the teams statistics up until that game and not including that current game. This allows us not to have to predict the outcome of the next game (the next game the home team plays) but the outcome of the game in that row. There is no data leakage because the stats from that game have not yet been added to the aggregated stats therefore it is not included in the teams average up until that game."
   ]
  },
  {
   "cell_type": "code",
   "execution_count": 12,
   "metadata": {},
   "outputs": [],
   "source": [
    "# used for attaching to aggregate data later on\n",
    "df_copy_for_attaching = df[['Date','home_team','away_team','home_outcome','away_outcome','game_number_of_season']]"
   ]
  },
  {
   "cell_type": "code",
   "execution_count": 13,
   "metadata": {
    "scrolled": true
   },
   "outputs": [],
   "source": [
    "from dataframe_creation import create_aggregate_data\n",
    "df_agg = df.copy(deep=True)\n",
    "df_agg = create_aggregate_data(df_agg)"
   ]
  },
  {
   "cell_type": "markdown",
   "metadata": {},
   "source": [
    "# Exploratory Data Analysis"
   ]
  },
  {
   "cell_type": "markdown",
   "metadata": {},
   "source": [
    "#### Data Understanding\n",
    "The dataset used in this project was created through the use of [retrosheet.org](https://www.retrosheet.org/) as it has one of the largest collection of MLB statistics and records from the past 100+ years of play. The collected statistics try and capture what happened in the game in terms of batting, fielding, and pitching and can give an indication as to why one team performed better than the other. Code for these images can be found in [exploratory_data_analysis.ipynb](./exploratory_data_analysis.ipynb)\n",
    "\n",
    "![img](./images/num_runs_won_by.png)\n",
    "Almost 30% of all games played are won by 1 run meaning the margin of victory is very small. This is one of the reasons that predicting the outcome of games is so hard due to one bad pitch leading to a home run can mean a loss for the defensive team.\n",
    "\n",
    "![img](./images/home_vs_away.png)\n",
    "The home team wins slightly more than the away team over all games played in the past 20 years. Over 50,000 games this is very important to consider but can be summed up to a team that does not need to travel and is front of their home crowd is more likely to win.\n",
    "\n",
    "![img](./images/runs_per_year.png)\n",
    "From this we can see that the scoring has generally been the same for the past 20 years. The difference between the highest scoring year and the lowest is about 5000 runs. In an article written in the New York Times (Now Pitchers Have the Power) they talk about how data was used to increase a teams ability to limit the amount of points scored.\n",
    "\n",
    "![img](./images/hit_diff.png)\n",
    "Teams who can generate more hits on average are much more likely to win the game. This makes sense as the more players you get on base the more players can be in scoring postion.\n",
    "\n",
    "![img](./images/obp_diff.png)\n",
    "From this scatter plot we can see that with the smallest advantage in OBP a team is much more likely to win. The reason for this is that the more people you can get on base the better chance of scoring.\n",
    "\n",
    "Everything discussed in this section was created in `exploratory_data_analysis.ipynb`."
   ]
  },
  {
   "cell_type": "markdown",
   "metadata": {},
   "source": [
    "# Modeling"
   ]
  },
  {
   "cell_type": "markdown",
   "metadata": {},
   "source": [
    "### Game to game stats"
   ]
  },
  {
   "cell_type": "code",
   "execution_count": 14,
   "metadata": {},
   "outputs": [],
   "source": [
    "cols_to_drop = ['forfeit_info','lf_ump_id','rf_ump_id','protest_info',\n",
    "                'date_game_completed','additional_info','save_pitch_id',\n",
    "                'game_win_rbi_batter_id','game_in_series','away_catch_interference',\n",
    "                'home_catch_interference','away_pitch_balks',\n",
    "                'home_pitch_balks','day_of_week','away_league',\n",
    "                'away_team_game_number','home_league',\n",
    "                'home_team_game_number','day_or_night','park_id',\n",
    "                'attendance','time_of_game','away_line_scores',\n",
    "                'home_line_scores','year','id',\n",
    "               'Date','away_team','home_team','game_number_of_season']\n",
    "df.drop(columns=cols_to_drop,inplace=True)\n",
    "df.drop(df.loc[:,'hb_ump_id':'acquisition_info'],axis=1,inplace=True)\n"
   ]
  },
  {
   "cell_type": "code",
   "execution_count": 15,
   "metadata": {},
   "outputs": [],
   "source": [
    "# PASO has some infinite values and those rows are dropped\n",
    "df.replace([np.inf,-np.inf],np.nan,inplace=True)\n",
    "df.dropna(inplace=True)"
   ]
  },
  {
   "cell_type": "code",
   "execution_count": 16,
   "metadata": {},
   "outputs": [],
   "source": [
    "# creating x and y\n",
    "X_norm = df.drop(columns='target')\n",
    "y_norm = df.target"
   ]
  },
  {
   "cell_type": "markdown",
   "metadata": {},
   "source": [
    "`baseline_prediction` will run inputed X and y data on a base model of logistic regression, decision tree, random forest, and XGBoost."
   ]
  },
  {
   "cell_type": "code",
   "execution_count": 17,
   "metadata": {},
   "outputs": [],
   "source": [
    "from baseline_model import baseline_prediction"
   ]
  },
  {
   "cell_type": "code",
   "execution_count": 18,
   "metadata": {},
   "outputs": [
    {
     "name": "stdout",
     "output_type": "stream",
     "text": [
      "Logistic Regression Accuracy\n",
      "Train=0.537 Test=0.533\n",
      "Decision Tree Accuracy\n",
      "Train=0.644 Test=0.525\n",
      "Random Forest Accuracy\n",
      "Train=1.0 Test=0.531\n",
      "XGBoost Accuracy\n",
      "Train=0.566 Test=0.537\n"
     ]
    }
   ],
   "source": [
    "baseline_prediction(X_norm,y_norm)"
   ]
  },
  {
   "cell_type": "markdown",
   "metadata": {},
   "source": [
    "The game by game statistics (only using the last game to predict the next game) performs pretty well. Logistic regression perfoms the best and overfitting is very very low. Decision tree and random forest overfit a ton with very poor results on test. XG boost overfits slightly and performs the same as random forst. Will be doing more testing on logistic regression."
   ]
  },
  {
   "cell_type": "markdown",
   "metadata": {},
   "source": [
    "### Aggregate stats"
   ]
  },
  {
   "cell_type": "code",
   "execution_count": 19,
   "metadata": {},
   "outputs": [
    {
     "data": {
      "text/html": [
       "<div>\n",
       "<style scoped>\n",
       "    .dataframe tbody tr th:only-of-type {\n",
       "        vertical-align: middle;\n",
       "    }\n",
       "\n",
       "    .dataframe tbody tr th {\n",
       "        vertical-align: top;\n",
       "    }\n",
       "\n",
       "    .dataframe thead th {\n",
       "        text-align: right;\n",
       "    }\n",
       "</style>\n",
       "<table border=\"1\" class=\"dataframe\">\n",
       "  <thead>\n",
       "    <tr style=\"text-align: right;\">\n",
       "      <th></th>\n",
       "      <th>Date</th>\n",
       "      <th>game_in_series</th>\n",
       "      <th>away_team</th>\n",
       "      <th>home_team</th>\n",
       "      <th>home_team_score</th>\n",
       "      <th>home_at_bats</th>\n",
       "      <th>home_hits</th>\n",
       "      <th>home_doubles</th>\n",
       "      <th>home_triples</th>\n",
       "      <th>home_hrs</th>\n",
       "      <th>home_rbi</th>\n",
       "      <th>home_sh</th>\n",
       "      <th>home_sf</th>\n",
       "      <th>home_hbp</th>\n",
       "      <th>home_walk</th>\n",
       "      <th>home_int_walk</th>\n",
       "      <th>home_so</th>\n",
       "      <th>home_sb</th>\n",
       "      <th>home_cs</th>\n",
       "      <th>home_gidp</th>\n",
       "      <th>home_catch_interference</th>\n",
       "      <th>home_left_on_base</th>\n",
       "      <th>home_pitchers_used</th>\n",
       "      <th>home_pitch_earned_runs</th>\n",
       "      <th>home_team_earned_runs</th>\n",
       "      <th>home_pitch_wild_pitches</th>\n",
       "      <th>home_pitch_balks</th>\n",
       "      <th>home_def_putouts</th>\n",
       "      <th>home_def_assists</th>\n",
       "      <th>home_def_errors</th>\n",
       "      <th>home_def_passed_balls</th>\n",
       "      <th>home_def_double_plays</th>\n",
       "      <th>home_def_triple_plays</th>\n",
       "      <th>home_win_loss</th>\n",
       "      <th>home_OBP</th>\n",
       "      <th>home_AVG</th>\n",
       "      <th>home_singles</th>\n",
       "      <th>home_SLG</th>\n",
       "      <th>home_BABIP</th>\n",
       "      <th>home_ISO</th>\n",
       "      <th>home_PASO</th>\n",
       "      <th>home_total_bases</th>\n",
       "      <th>home_runs_created</th>\n",
       "      <th>home_wOBA</th>\n",
       "      <th>game_of_season_home</th>\n",
       "      <th>away_team_score</th>\n",
       "      <th>away_at_bats</th>\n",
       "      <th>away_hits</th>\n",
       "      <th>away_doubles</th>\n",
       "      <th>away_triples</th>\n",
       "      <th>away_hrs</th>\n",
       "      <th>away_rbi</th>\n",
       "      <th>away_sh</th>\n",
       "      <th>away_sf</th>\n",
       "      <th>away_hbp</th>\n",
       "      <th>away_walk</th>\n",
       "      <th>away_int_walk</th>\n",
       "      <th>away_so</th>\n",
       "      <th>away_sb</th>\n",
       "      <th>away_cs</th>\n",
       "      <th>away_gidp</th>\n",
       "      <th>away_catch_interference</th>\n",
       "      <th>away_left_on_base</th>\n",
       "      <th>away_pitchers_used</th>\n",
       "      <th>away_pitch_earned_runs</th>\n",
       "      <th>away_team_earned_runs</th>\n",
       "      <th>away_pitch_wild_pitches</th>\n",
       "      <th>away_pitch_balks</th>\n",
       "      <th>away_def_putouts</th>\n",
       "      <th>away_def_assists</th>\n",
       "      <th>away_def_errors</th>\n",
       "      <th>away_def_passed_balls</th>\n",
       "      <th>away_def_double_plays</th>\n",
       "      <th>away_def_triple_plays</th>\n",
       "      <th>away_win_loss</th>\n",
       "      <th>away_OBP</th>\n",
       "      <th>away_AVG</th>\n",
       "      <th>away_singles</th>\n",
       "      <th>away_SLG</th>\n",
       "      <th>away_BABIP</th>\n",
       "      <th>away_ISO</th>\n",
       "      <th>away_PASO</th>\n",
       "      <th>away_total_bases</th>\n",
       "      <th>away_runs_created</th>\n",
       "      <th>away_wOBA</th>\n",
       "      <th>game_of_season_away</th>\n",
       "      <th>home_outcome</th>\n",
       "      <th>away_outcome</th>\n",
       "    </tr>\n",
       "  </thead>\n",
       "  <tbody>\n",
       "    <tr>\n",
       "      <th>0</th>\n",
       "      <td>2000-03-30</td>\n",
       "      <td>0</td>\n",
       "      <td>NYN</td>\n",
       "      <td>CHN</td>\n",
       "      <td>NaN</td>\n",
       "      <td>NaN</td>\n",
       "      <td>NaN</td>\n",
       "      <td>NaN</td>\n",
       "      <td>NaN</td>\n",
       "      <td>NaN</td>\n",
       "      <td>NaN</td>\n",
       "      <td>NaN</td>\n",
       "      <td>NaN</td>\n",
       "      <td>NaN</td>\n",
       "      <td>NaN</td>\n",
       "      <td>NaN</td>\n",
       "      <td>NaN</td>\n",
       "      <td>NaN</td>\n",
       "      <td>NaN</td>\n",
       "      <td>NaN</td>\n",
       "      <td>NaN</td>\n",
       "      <td>NaN</td>\n",
       "      <td>NaN</td>\n",
       "      <td>NaN</td>\n",
       "      <td>NaN</td>\n",
       "      <td>NaN</td>\n",
       "      <td>NaN</td>\n",
       "      <td>NaN</td>\n",
       "      <td>NaN</td>\n",
       "      <td>NaN</td>\n",
       "      <td>NaN</td>\n",
       "      <td>NaN</td>\n",
       "      <td>NaN</td>\n",
       "      <td>NaN</td>\n",
       "      <td>NaN</td>\n",
       "      <td>NaN</td>\n",
       "      <td>NaN</td>\n",
       "      <td>NaN</td>\n",
       "      <td>NaN</td>\n",
       "      <td>NaN</td>\n",
       "      <td>NaN</td>\n",
       "      <td>NaN</td>\n",
       "      <td>NaN</td>\n",
       "      <td>NaN</td>\n",
       "      <td>1.0</td>\n",
       "      <td>NaN</td>\n",
       "      <td>NaN</td>\n",
       "      <td>NaN</td>\n",
       "      <td>NaN</td>\n",
       "      <td>NaN</td>\n",
       "      <td>NaN</td>\n",
       "      <td>NaN</td>\n",
       "      <td>NaN</td>\n",
       "      <td>NaN</td>\n",
       "      <td>NaN</td>\n",
       "      <td>NaN</td>\n",
       "      <td>NaN</td>\n",
       "      <td>NaN</td>\n",
       "      <td>NaN</td>\n",
       "      <td>NaN</td>\n",
       "      <td>NaN</td>\n",
       "      <td>NaN</td>\n",
       "      <td>NaN</td>\n",
       "      <td>NaN</td>\n",
       "      <td>NaN</td>\n",
       "      <td>NaN</td>\n",
       "      <td>NaN</td>\n",
       "      <td>NaN</td>\n",
       "      <td>NaN</td>\n",
       "      <td>NaN</td>\n",
       "      <td>NaN</td>\n",
       "      <td>NaN</td>\n",
       "      <td>NaN</td>\n",
       "      <td>NaN</td>\n",
       "      <td>NaN</td>\n",
       "      <td>NaN</td>\n",
       "      <td>NaN</td>\n",
       "      <td>NaN</td>\n",
       "      <td>NaN</td>\n",
       "      <td>NaN</td>\n",
       "      <td>NaN</td>\n",
       "      <td>NaN</td>\n",
       "      <td>NaN</td>\n",
       "      <td>NaN</td>\n",
       "      <td>NaN</td>\n",
       "      <td>1.0</td>\n",
       "      <td>0</td>\n",
       "      <td>1</td>\n",
       "    </tr>\n",
       "  </tbody>\n",
       "</table>\n",
       "</div>"
      ],
      "text/plain": [
       "        Date  game_in_series away_team home_team  home_team_score  \\\n",
       "0 2000-03-30               0       NYN       CHN              NaN   \n",
       "\n",
       "   home_at_bats  home_hits  home_doubles  home_triples  home_hrs  home_rbi  \\\n",
       "0           NaN        NaN           NaN           NaN       NaN       NaN   \n",
       "\n",
       "   home_sh  home_sf  home_hbp  home_walk  home_int_walk  home_so  home_sb  \\\n",
       "0      NaN      NaN       NaN        NaN            NaN      NaN      NaN   \n",
       "\n",
       "   home_cs  home_gidp  home_catch_interference  home_left_on_base  \\\n",
       "0      NaN        NaN                      NaN                NaN   \n",
       "\n",
       "   home_pitchers_used  home_pitch_earned_runs  home_team_earned_runs  \\\n",
       "0                 NaN                     NaN                    NaN   \n",
       "\n",
       "   home_pitch_wild_pitches  home_pitch_balks  home_def_putouts  \\\n",
       "0                      NaN               NaN               NaN   \n",
       "\n",
       "   home_def_assists  home_def_errors  home_def_passed_balls  \\\n",
       "0               NaN              NaN                    NaN   \n",
       "\n",
       "   home_def_double_plays  home_def_triple_plays  home_win_loss  home_OBP  \\\n",
       "0                    NaN                    NaN            NaN       NaN   \n",
       "\n",
       "   home_AVG  home_singles  home_SLG  home_BABIP  home_ISO  home_PASO  \\\n",
       "0       NaN           NaN       NaN         NaN       NaN        NaN   \n",
       "\n",
       "   home_total_bases  home_runs_created  home_wOBA  game_of_season_home  \\\n",
       "0               NaN                NaN        NaN                  1.0   \n",
       "\n",
       "   away_team_score  away_at_bats  away_hits  away_doubles  away_triples  \\\n",
       "0              NaN           NaN        NaN           NaN           NaN   \n",
       "\n",
       "   away_hrs  away_rbi  away_sh  away_sf  away_hbp  away_walk  away_int_walk  \\\n",
       "0       NaN       NaN      NaN      NaN       NaN        NaN            NaN   \n",
       "\n",
       "   away_so  away_sb  away_cs  away_gidp  away_catch_interference  \\\n",
       "0      NaN      NaN      NaN        NaN                      NaN   \n",
       "\n",
       "   away_left_on_base  away_pitchers_used  away_pitch_earned_runs  \\\n",
       "0                NaN                 NaN                     NaN   \n",
       "\n",
       "   away_team_earned_runs  away_pitch_wild_pitches  away_pitch_balks  \\\n",
       "0                    NaN                      NaN               NaN   \n",
       "\n",
       "   away_def_putouts  away_def_assists  away_def_errors  away_def_passed_balls  \\\n",
       "0               NaN               NaN              NaN                    NaN   \n",
       "\n",
       "   away_def_double_plays  away_def_triple_plays  away_win_loss  away_OBP  \\\n",
       "0                    NaN                    NaN            NaN       NaN   \n",
       "\n",
       "   away_AVG  away_singles  away_SLG  away_BABIP  away_ISO  away_PASO  \\\n",
       "0       NaN           NaN       NaN         NaN       NaN        NaN   \n",
       "\n",
       "   away_total_bases  away_runs_created  away_wOBA  game_of_season_away  \\\n",
       "0               NaN                NaN        NaN                  1.0   \n",
       "\n",
       "   home_outcome  away_outcome  \n",
       "0             0             1  "
      ]
     },
     "execution_count": 19,
     "metadata": {},
     "output_type": "execute_result"
    }
   ],
   "source": [
    "df_agg.head(1)"
   ]
  },
  {
   "cell_type": "code",
   "execution_count": 39,
   "metadata": {},
   "outputs": [],
   "source": [
    "# taking out the first 10 games due to them not having enough data\n",
    "df_agg_cutt_early = df_agg[(df_agg.game_of_season_home > 10)]"
   ]
  },
  {
   "cell_type": "code",
   "execution_count": 40,
   "metadata": {},
   "outputs": [],
   "source": [
    "# dropping columns no longer needed\n",
    "cols_to_drop_agg_cutt = ['home_team','away_team','Date','away_outcome','game_of_season_home','game_of_season_away','game_in_series']\n",
    "df_agg_cutt_early.drop(columns=cols_to_drop_agg_cutt,inplace=True)\n",
    "# PA/SO can result in infinite value, row dropped\n",
    "df_agg_cutt_early.replace([np.inf,-np.inf],np.nan,inplace=True)\n",
    "df_agg_cutt_early.dropna(inplace=True)"
   ]
  },
  {
   "cell_type": "code",
   "execution_count": 41,
   "metadata": {},
   "outputs": [],
   "source": [
    "# target is the outcome of current game\n",
    "X_agg_cutt = df_agg_cutt_early.drop(columns='home_outcome')\n",
    "y_agg_cutt = df_agg_cutt_early.home_outcome"
   ]
  },
  {
   "cell_type": "code",
   "execution_count": 42,
   "metadata": {},
   "outputs": [
    {
     "name": "stdout",
     "output_type": "stream",
     "text": [
      "Logistic Regression Accuracy\n",
      "Train=0.575 Test=0.567\n",
      "Decision Tree Accuracy\n",
      "Train=0.837 Test=0.641\n",
      "Random Forest Accuracy\n",
      "Train=1.0 Test=0.649\n",
      "XGBoost Accuracy\n",
      "Train=0.643 Test=0.615\n"
     ]
    }
   ],
   "source": [
    "# baseline testing\n",
    "baseline_prediction(X_agg_cutt,y_agg_cutt)"
   ]
  },
  {
   "cell_type": "markdown",
   "metadata": {},
   "source": [
    "From this we can see that the aggregate data performs better than the normal per game statistics data. The reason for this improvement is each team is not being assesed on only their previous game but all previous games that season. A team is not how well they did last game but how well they have been doing that season. One off game can throw off predictions. Logistic regression and XGBoost are going to be futher improved due to their accuracy in these intial tests."
   ]
  },
  {
   "cell_type": "markdown",
   "metadata": {},
   "source": [
    "## Feature Selection"
   ]
  },
  {
   "cell_type": "markdown",
   "metadata": {},
   "source": [
    "Feature selection can be very useful by reducing the amount of features used in the model while also maintaining/increasing the accuracy score. A filter method of select k-best is going to be used first and then a wrapper method of recursive feature elimination after."
   ]
  },
  {
   "cell_type": "code",
   "execution_count": 24,
   "metadata": {},
   "outputs": [],
   "source": [
    "from sklearn.model_selection import train_test_split\n",
    "X_train, X_test, y_train, y_test = train_test_split(X_agg_cutt,y_agg_cutt,random_state=99)"
   ]
  },
  {
   "cell_type": "markdown",
   "metadata": {},
   "source": [
    "#### Filter Method"
   ]
  },
  {
   "cell_type": "code",
   "execution_count": 25,
   "metadata": {},
   "outputs": [],
   "source": [
    "from sklearn.feature_selection import SelectKBest, f_classif"
   ]
  },
  {
   "cell_type": "code",
   "execution_count": 26,
   "metadata": {},
   "outputs": [],
   "source": [
    "# instantiating a feature selector object\n",
    "feature_selector = SelectKBest(f_classif,50)\n",
    "# fitting to our data\n",
    "feature_selector.fit(X_train,y_train)\n",
    "# features that we keep\n",
    "selected_filter = X_train.columns[feature_selector.get_support()]"
   ]
  },
  {
   "cell_type": "code",
   "execution_count": 27,
   "metadata": {},
   "outputs": [
    {
     "name": "stdout",
     "output_type": "stream",
     "text": [
      "Logistic Regression Accuracy\n",
      "Train=0.575 Test=0.571\n",
      "Decision Tree Accuracy\n",
      "Train=0.804 Test=0.634\n",
      "Random Forest Accuracy\n",
      "Train=1.0 Test=0.65\n",
      "XGBoost Accuracy\n",
      "Train=0.629 Test=0.606\n"
     ]
    }
   ],
   "source": [
    "baseline_prediction(X_agg_cutt[selected_filter],y_agg_cutt)"
   ]
  },
  {
   "cell_type": "markdown",
   "metadata": {},
   "source": [
    "#### Wrapper Method"
   ]
  },
  {
   "cell_type": "code",
   "execution_count": 28,
   "metadata": {},
   "outputs": [],
   "source": [
    "from sklearn.feature_selection import RFECV\n",
    "from sklearn.linear_model import LogisticRegression"
   ]
  },
  {
   "cell_type": "code",
   "execution_count": 29,
   "metadata": {},
   "outputs": [
    {
     "name": "stdout",
     "output_type": "stream",
     "text": [
      "# of feature pre feature selection: 81\n",
      "# of feature post feature selection: 64\n"
     ]
    }
   ],
   "source": [
    "X_train, X_test, y_train, y_test = train_test_split(X_agg_cutt,y_agg_cutt,random_state=99)\n",
    "# we are going to use logistic regression as an estimator as it was the best performer in baseline tests\n",
    "estimator = LogisticRegression()\n",
    "# instantiate the wrapper method\n",
    "feature_selector = RFECV(estimator=estimator, step=1, cv=10,n_jobs=-1)\n",
    "# fit to train data\n",
    "feature_selector.fit(X_train,y_train)\n",
    "# get the selected features\n",
    "selected_wrapper = X_train.columns[feature_selector.support_]\n",
    "print('# of feature pre feature selection: {}'.format(len(X_train.columns)))\n",
    "print('# of feature post feature selection: {}'.format(len(selected_wrapper)))"
   ]
  },
  {
   "cell_type": "code",
   "execution_count": 30,
   "metadata": {},
   "outputs": [
    {
     "name": "stdout",
     "output_type": "stream",
     "text": [
      "Logistic Regression Accuracy\n",
      "Train=0.577 Test=0.566\n",
      "Decision Tree Accuracy\n",
      "Train=0.807 Test=0.63\n",
      "Random Forest Accuracy\n",
      "Train=1.0 Test=0.65\n",
      "XGBoost Accuracy\n",
      "Train=0.643 Test=0.615\n"
     ]
    }
   ],
   "source": [
    "baseline_prediction(X_agg_cutt[selected_wrapper],y_agg_cutt)"
   ]
  },
  {
   "cell_type": "markdown",
   "metadata": {},
   "source": [
    "The recursive feature elimination produces slightly better results than the filter method. This shows that using 16 less features only decresed prediction accuracy by 0.001 for logistic regression and 0.003 for XGBoost. I am going to continue with the full dataset as computation time is not an issure in this project. I also believe that allowing as much information into the models will aloow for the highest accuracy as much as posssible."
   ]
  },
  {
   "cell_type": "markdown",
   "metadata": {},
   "source": [
    "## Grid Searching Top Models"
   ]
  },
  {
   "cell_type": "markdown",
   "metadata": {},
   "source": [
    "Grid searching will allow the model to iteratively try multiple parameters to find the set that predicts with the highest accuracy. As this process takes a significant amount of time (~5 mins for logistic regression and ~2 hours for XGBoost) I will be including a model with the optimal parameters."
   ]
  },
  {
   "cell_type": "markdown",
   "metadata": {},
   "source": [
    "### Logistic Regression"
   ]
  },
  {
   "cell_type": "code",
   "execution_count": 43,
   "metadata": {},
   "outputs": [],
   "source": [
    "X_train, X_test, y_train, y_test = train_test_split(X_agg_cutt,y_agg_cutt,random_state=99)"
   ]
  },
  {
   "cell_type": "code",
   "execution_count": 44,
   "metadata": {},
   "outputs": [
    {
     "name": "stdout",
     "output_type": "stream",
     "text": [
      "Train Accuracy: 0.577837\n",
      "Test Accuracy: 0.564701\n"
     ]
    }
   ],
   "source": [
    "from sklearn.metrics import accuracy_score\n",
    "lr_model = LogisticRegression(penalty='l2',C=1e9,max_iter=80)\n",
    "lr_model.fit(X_train,y_train)\n",
    "lr_model_predictions_train = lr_model.predict(X_train)\n",
    "lr_model_predictions_test = lr_model.predict(X_test)\n",
    "train_acc = accuracy_score(y_train, lr_model_predictions_train)\n",
    "test_acc = accuracy_score(y_test, lr_model_predictions_test)\n",
    "print(\"Train Accuracy: %f\" % (train_acc))\n",
    "print(\"Test Accuracy: %f\" % (test_acc))"
   ]
  },
  {
   "cell_type": "markdown",
   "metadata": {},
   "source": [
    "From testing different sets of parameters on this problem, a high regularization score is favorable. L2 is the best performing penalty. Max iterations seems to converge to 80. All of these have the same score but will end with 80 as it has the least iterations but also the same score.\n",
    "\n",
    "From this we can see the the best logistic regression achieved a score of 57%. This is very good as it is 7% above being completely random which can help inform what team to choose."
   ]
  },
  {
   "cell_type": "markdown",
   "metadata": {},
   "source": [
    "#### Feature Importances\n",
    "Logistic regression assings weights to every feature and this is how it makes predictions upon on input. The feature values of that input are then used in a linear combination with the weights to obtain a score. If this score is above a certain threshold it predicts 0 and if below that threshold it predicts 0."
   ]
  },
  {
   "cell_type": "code",
   "execution_count": 33,
   "metadata": {},
   "outputs": [],
   "source": [
    "feature_importance = lr_model.coef_[0]\n",
    "features = X_agg_cutt.columns\n",
    "feature_importance_list = []\n",
    "for feature, importance in zip(features,feature_importance):\n",
    "    feature_importance_list.append((feature,importance))\n",
    "feature_importance_list.sort(key=lambda x: np.abs(x[1]),reverse=True)"
   ]
  },
  {
   "cell_type": "code",
   "execution_count": 34,
   "metadata": {},
   "outputs": [
    {
     "data": {
      "text/plain": [
       "[('away_at_bats', -0.04268651372790853),\n",
       " ('home_at_bats', -0.04106654697913486),\n",
       " ('away_def_putouts', -0.03307781350377313),\n",
       " ('home_def_putouts', -0.030312603662943666),\n",
       " ('home_total_bases', -0.01771559276794293),\n",
       " ('away_total_bases', -0.012743365204891895),\n",
       " ('away_def_assists', -0.011387918479445555),\n",
       " ('away_so', -0.011131616013969644),\n",
       " ('away_hits', -0.00980105678381608),\n",
       " ('home_so', -0.009761559752099132),\n",
       " ('away_pitch_earned_runs', -0.009603412342571152),\n",
       " ('away_team_earned_runs', -0.009581343229522045),\n",
       " ('home_hits', -0.009565399526121975),\n",
       " ('home_pitch_earned_runs', -0.0086992707391016),\n",
       " ('home_team_earned_runs', -0.008689370836362616),\n",
       " ('away_singles', -0.007498208669779614),\n",
       " ('home_left_on_base', -0.007125848142665085),\n",
       " ('away_pitchers_used', -0.006056697203596722),\n",
       " ('home_runs_created', -0.005864471130905468),\n",
       " ('away_PASO', -0.00579401693955997)]"
      ]
     },
     "execution_count": 34,
     "metadata": {},
     "output_type": "execute_result"
    }
   ],
   "source": [
    "feature_importance_list[0:20]"
   ]
  },
  {
   "cell_type": "markdown",
   "metadata": {},
   "source": [
    "### XGBoost\n",
    "Grid Seach of XGBoost will hopefully allow for good predictions as well as easily obtain feature importances."
   ]
  },
  {
   "cell_type": "code",
   "execution_count": 45,
   "metadata": {},
   "outputs": [],
   "source": [
    "import xgboost as xgb"
   ]
  },
  {
   "cell_type": "code",
   "execution_count": 46,
   "metadata": {},
   "outputs": [
    {
     "data": {
      "text/plain": [
       "XGBClassifier(learning_rate=0.01, max_depth=5, min_child_weight=2,\n",
       "              n_estimators=300, objective='multi:softprob')"
      ]
     },
     "execution_count": 46,
     "metadata": {},
     "output_type": "execute_result"
    }
   ],
   "source": [
    "xgb_model = xgb.XGBClassifier(objective = 'binary:logistic',\n",
    "                                 learning_rate = 0.01,\n",
    "                                 max_depth = 5,\n",
    "                                 min_child_weight = 2,\n",
    "                                 n_estimators = 300)\n",
    "xgb_model.fit(X_train,y_train)"
   ]
  },
  {
   "cell_type": "code",
   "execution_count": 47,
   "metadata": {},
   "outputs": [
    {
     "name": "stdout",
     "output_type": "stream",
     "text": [
      "Train Accuracy: 0.663271\n",
      "Test Accuracy: 0.621984\n"
     ]
    }
   ],
   "source": [
    "xgb_model_predictions_train = xgb_model.predict(X_train)\n",
    "xgb_model_predictions_test = xgb_model.predict(X_test)\n",
    "train_acc = accuracy_score(y_train, xgb_model_predictions_train)\n",
    "test_acc = accuracy_score(y_test, xgb_model_predictions_test)\n",
    "print(\"Train Accuracy: %f\" % (train_acc))\n",
    "print(\"Test Accuracy: %f\" % (test_acc))"
   ]
  },
  {
   "cell_type": "code",
   "execution_count": 48,
   "metadata": {},
   "outputs": [
    {
     "data": {
      "image/png": "[encoded data removed]",
      "text/plain": [
       "<Figure size 360x360 with 1 Axes>"
      ]
     },
     "metadata": {
      "needs_background": "light"
     },
     "output_type": "display_data"
    }
   ],
   "source": [
    "xgb.plot_importance(xgb_model,max_num_features = 15)\n",
    "plt.rcParams['figure.figsize'] = [5, 5]\n",
    "\n",
    "plt.show()"
   ]
  },
  {
   "cell_type": "markdown",
   "metadata": {},
   "source": [
    "From these feature importances we can see that the record of a team really impacts the outcome of the game. We can also see that the more walks a team is awarded the more likely they are to win the game. Away pitch earned runs means that a more a pitcher gives up runs the more likely we are to win which makes sense. I am assuming that a lot of these say that the less an opposing team perfoms the less they are able to win the game."
   ]
  },
  {
   "cell_type": "markdown",
   "metadata": {},
   "source": [
    "# Conclusion"
   ]
  },
  {
   "cell_type": "markdown",
   "metadata": {},
   "source": [
    "- The record of each team (home and away) play a major part in the outcome of the game as teams who are winning\n",
    "\t\n",
    "- The higher rate of assists and putouts by the defense limits the scoring potential of each team\n",
    "\t\n",
    "- Walks lead to free base runners which increase chance of scoring greatly\n",
    "\t\n",
    "- Going up against pitchers with low earned runs decreases chance of winning\n",
    "\t\n",
    "- Wild pitches lead to movement of baserunners and put base runners in scoring position\n",
    "\n",
    "These are just a couple takeaways from feature importances from the models. One thing to note is that there is no one statistic that can be used to make a large part of a prediction. It is the combination of many stats and how they differ from your opponent.\n",
    "\n",
    "With this information it can help anyone who was on the edge of whether they would put their own money on the line. With a nudge in the right direction they will seek to almost always make a profit."
   ]
  },
  {
   "cell_type": "code",
   "execution_count": null,
   "metadata": {},
   "outputs": [],
   "source": [
    "#df_agg.to_csv('agg_data_final.csv')"
   ]
  },
  {
   "cell_type": "code",
   "execution_count": null,
   "metadata": {},
   "outputs": [],
   "source": [
    "#df.to_csv('norm_data_final.csv')"
   ]
  },
  {
   "cell_type": "code",
   "execution_count": null,
   "metadata": {},
   "outputs": [],
   "source": []
  }
 ],
 "metadata": {
  "kernelspec": {
   "display_name": "Python 3",
   "language": "python",
   "name": "python3"
  },
  "language_info": {
   "codemirror_mode": {
    "name": "ipython",
    "version": 3
   },
   "file_extension": ".py",
   "mimetype": "text/x-python",
   "name": "python",
   "nbconvert_exporter": "python",
   "pygments_lexer": "ipython3",
   "version": "3.6.9"
  }
 },
 "nbformat": 4,
 "nbformat_minor": 4
}
