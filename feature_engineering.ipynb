{
 "cells": [
  {
   "cell_type": "code",
   "execution_count": 34,
   "metadata": {},
   "outputs": [],
   "source": [
    "import pandas as pd\n",
    "import numpy as np\n",
    "import matplotlib.pyplot as plt\n",
    "import seaborn as sns\n",
    "pd.set_option('display.max_rows', 500)\n",
    "pd.set_option('display.max_columns',500)\n",
    "# used for sorting\n",
    "from operator import itemgetter"
   ]
  },
  {
   "cell_type": "markdown",
   "metadata": {},
   "source": [
    "# RetroSheet Data\n",
    "All the data used in this project is from https://www.retrosheet.org/. This organization collects all baseball events and statistics since they started recording this information.\n",
    "\n",
    "## Year-spanning stats\n"
   ]
  },
  {
   "cell_type": "code",
   "execution_count": 53,
   "metadata": {},
   "outputs": [],
   "source": [
    "# these are the columns of the data frame\n",
    "# these are year-spanning stats\n",
    "from dataframe_creation import get_pbp_columns\n",
    "columns = get_pbp_columns()"
   ]
  },
  {
   "cell_type": "code",
   "execution_count": 57,
   "metadata": {},
   "outputs": [],
   "source": [
    "# all years that the data is from\n",
    "year_list = list(range(2000,2020,1))"
   ]
  },
  {
   "cell_type": "code",
   "execution_count": 55,
   "metadata": {
    "scrolled": true
   },
   "outputs": [],
   "source": [
    "# importing the data from each file\n",
    "# the files are done year by year\n",
    "df = pd.DataFrame()\n",
    "for year_list in years:\n",
    "    url = 'data/retro_data/year_games/GL{}.txt'.format(year)\n",
    "    temp = pd.read_csv(url)\n",
    "    temp.columns = columns\n",
    "    df = df.append(temp)"
   ]
  },
  {
   "cell_type": "markdown",
   "metadata": {},
   "source": [
    "Some teams in the past 20 years have swtiched their name so the tag changed. Here are those changes:\n",
    "* Florida Marlins (FLO) -> Miami Marlins (MIA)\n",
    "* Montreal Expos (MON) -> Washinton Nationals (WAS)"
   ]
  },
  {
   "cell_type": "code",
   "execution_count": 28,
   "metadata": {},
   "outputs": [],
   "source": [
    "# changing those team names\n",
    "df = df.applymap(lambda x: \"WAS\" if x=='MON'else ('MIA' if x=='FLO' else x))"
   ]
  },
  {
   "cell_type": "code",
   "execution_count": 29,
   "metadata": {},
   "outputs": [
    {
     "name": "stdout",
     "output_type": "stream",
     "text": [
      "Date                            0\n",
      "game_in_series                  0\n",
      "day_of_week                     0\n",
      "away_team                       0\n",
      "away_league                     0\n",
      "away_team_game_number           0\n",
      "home_team                       0\n",
      "home_league                     0\n",
      "home_team_game_number           0\n",
      "away_team_score                 0\n",
      "home_team_score                 0\n",
      "number_of_outs                  0\n",
      "day_or_night                    0\n",
      "date_game_completed         48536\n",
      "forfeit_info                48568\n",
      "protest_info                48543\n",
      "park_id                         0\n",
      "attendance                      1\n",
      "time_of_game                    0\n",
      "away_line_scores                0\n",
      "home_line_scores                0\n",
      "away_at_bats                    0\n",
      "away_hits                       0\n",
      "away_doubles                    0\n",
      "away_triples                    0\n",
      "away_hrs                        0\n",
      "away_rbi                        0\n",
      "away_sh                         0\n",
      "away_sf                         0\n",
      "away_hbp                        0\n",
      "away_walk                       0\n",
      "away_int_walk                   0\n",
      "away_so                         0\n",
      "away_sb                         0\n",
      "away_cs                         0\n",
      "away_gidp                       0\n",
      "away_catch_interference         0\n",
      "away_left_on_base               0\n",
      "away_pitchers_used              0\n",
      "away_pitch_earned_runs          0\n",
      "away_team_earned_runs           0\n",
      "away_pitch_wild_pitches         0\n",
      "away_pitch_balks                0\n",
      "away_def_putouts                0\n",
      "away_def_assists                0\n",
      "away_def_errors                 0\n",
      "away_def_passed_balls           0\n",
      "away_def_double_plays           0\n",
      "away_def_triple_plays           0\n",
      "home_at_bats                    0\n",
      "home_hits                       0\n",
      "home_doubles                    0\n",
      "home_triples                    0\n",
      "home_hrs                        0\n",
      "home_rbi                        0\n",
      "home_sh                         0\n",
      "home_sf                         0\n",
      "home_hbp                        0\n",
      "home_walk                       0\n",
      "home_int_walk                   0\n",
      "home_so                         0\n",
      "home_sb                         0\n",
      "home_cs                         0\n",
      "home_gidp                       0\n",
      "home_catch_interference         0\n",
      "home_left_on_base               0\n",
      "home_pitchers_used              0\n",
      "home_pitch_earned_runs          0\n",
      "home_team_earned_runs           0\n",
      "home_pitch_wild_pitches         0\n",
      "home_pitch_balks                0\n",
      "home_def_putouts                0\n",
      "home_def_assists                0\n",
      "home_def_errors                 0\n",
      "home_def_passed_balls           0\n",
      "home_def_double_plays           0\n",
      "home_def_triple_plays           0\n",
      "hb_ump_id                       0\n",
      "hb_ump_name                     0\n",
      "1b_ump_id                       0\n",
      "1b_ump_name                     0\n",
      "2b_ump_id                      69\n",
      "2b_ump_name                     0\n",
      "3b_ump_id                       0\n",
      "3b_ump_name                     0\n",
      "lf_ump_id                   48562\n",
      "lf_ump_name                     0\n",
      "rf_ump_id                   48562\n",
      "rf_ump_name                     0\n",
      "away_team_manager_id            0\n",
      "away_team_manager_name          0\n",
      "home_team_manager_id            0\n",
      "home_team_manager_name          0\n",
      "win_pitch_id                    6\n",
      "win_pitch_name                  6\n",
      "lose_pitch_id                   6\n",
      "lose_pitch_name                 6\n",
      "save_pitch_id               24090\n",
      "save_pitch_name                 0\n",
      "game_win_rbi_batter_id       2288\n",
      "game_win_rbi_batter_name        0\n",
      "away_start_pitch_id             0\n",
      "away_start_pitch_name           0\n",
      "home_start_pitch_id             0\n",
      "home_start_pitch_name           0\n",
      "away_player_1_id                0\n",
      "away_player_1_name              0\n",
      "away_player_1_def_pos           0\n",
      "away_player_2_id                0\n",
      "away_player_2_name              0\n",
      "away_player_2_def_pos           0\n",
      "away_player_3_id                0\n",
      "away_player_3_name              0\n",
      "away_player_3_def_pos           0\n",
      "away_player_4_id                0\n",
      "away_player_4_name              0\n",
      "away_player_4_def_pos           0\n",
      "away_player_5_id                0\n",
      "away_player_5_name              0\n",
      "away_player_5_def_pos           0\n",
      "away_player_6_id                0\n",
      "away_player_6_name              0\n",
      "away_player_6_def_pos           0\n",
      "away_player_7_id                0\n",
      "away_player_7_name              0\n",
      "away_player_7_def_pos           0\n",
      "away_player_8_id                0\n",
      "away_player_8_name              0\n",
      "away_player_8_def_pos           0\n",
      "away_player_9_id                0\n",
      "away_player_9_name              0\n",
      "away_player_9_def_pos           0\n",
      "home_player_1_id                0\n",
      "home_player_1_name              0\n",
      "home_player_1_def_pos           0\n",
      "home_player_2_id                0\n",
      "home_player_2_name              0\n",
      "home_player_2_def_pos           0\n",
      "home_player_3_id                0\n",
      "home_player_3_name              0\n",
      "home_player_3_def_pos           0\n",
      "home_player_4_id                0\n",
      "home_player_4_name              0\n",
      "home_player_4_def_pos           0\n",
      "home_player_5_id                0\n",
      "home_player_5_name              0\n",
      "home_player_5_def_pos           0\n",
      "home_player_6_id                0\n",
      "home_player_6_name              0\n",
      "home_player_6_def_pos           0\n",
      "home_player_7_id                0\n",
      "home_player_7_name              0\n",
      "home_player_7_def_pos           0\n",
      "home_player_8_id                0\n",
      "home_player_8_name              0\n",
      "home_player_8_def_pos           0\n",
      "home_player_9_id                0\n",
      "home_player_9_name              0\n",
      "home_player_9_def_pos           0\n",
      "additional_info             48346\n",
      "acquisition_info                0\n",
      "dtype: int64\n"
     ]
    }
   ],
   "source": [
    "# there are some columns that contain mostly nan's and will be dropped\n",
    "pd.set_option('display.max_rows', 1000)\n",
    "print(df.isna().sum())\n",
    "pd.set_option('display.max_rows', 50)"
   ]
  },
  {
   "cell_type": "code",
   "execution_count": 30,
   "metadata": {
    "scrolled": false
   },
   "outputs": [
    {
     "name": "stdout",
     "output_type": "stream",
     "text": [
      "Most games played in past 20 years: 1622\n",
      "Least games played in past 20 years: 1616\n"
     ]
    }
   ],
   "source": [
    "# some games have been cancelled in the past 20 years\n",
    "# there is no need to be concerned as we are predicting on a game by game basis\n",
    "# one game will not throw off the cumulative statistics\n",
    "most_games_played_past_20 = df.groupby('away_team').count().Date.max()\n",
    "least_games_played_past_20 = df.groupby('away_team').count().Date.min()\n",
    "print('Most games played in past 20 years:',most_games_played_past_20)\n",
    "print('Least games played in past 20 years:',least_games_played_past_20)"
   ]
  },
  {
   "cell_type": "code",
   "execution_count": 35,
   "metadata": {
    "scrolled": true
   },
   "outputs": [
    {
     "data": {
      "image/png": "[encoded data removed]",
      "text/plain": [
       "<Figure size 540x360 with 1 Axes>"
      ]
     },
     "metadata": {
      "needs_background": "light"
     },
     "output_type": "display_data"
    }
   ],
   "source": [
    "# showing all the games played by each team\n",
    "num_games_played_df = df.groupby('away_team').count().Date.copy()\n",
    "num_games_played_df.sort_values(inplace=True)\n",
    "x = num_games_played_df.index\n",
    "y = list(num_games_played_df)\n",
    "fig, ax = plt.subplots(figsize=(7.5,5))\n",
    "ax.bar(x,y,color='green')\n",
    "ax.set_ylim(bottom = 1615,top = 1623)\n",
    "ax.set_yticks(ticks=range(1615,1623,1))\n",
    "ax.set_xticklabels(labels=x,rotation=90)\n",
    "ax.set_title('Number of games played by each team')\n",
    "ax.set_xlabel('Team')\n",
    "ax.set_ylabel('Number of Games Played (2000-2019)');"
   ]
  },
  {
   "cell_type": "markdown",
   "metadata": {},
   "source": [
    "# Feautre Enginnering"
   ]
  },
  {
   "cell_type": "markdown",
   "metadata": {},
   "source": [
    "# Creating Player game-by-game statistics\n",
    "These are definitons of all statistics that are recorded or can be calculated.\n",
    "\n",
    "G: Games. Tells how many games the player actually took the field in or appeared at the plate. IMPORTANT NOTE: If the data in the G column is a dark maroon link, click it and up will appear comprehensive hitting logs that show every game the player appeared in and links to those boxscores.\n",
    "\n",
    "AB: At-bats. Count of times in the batters box, but excludes walks, sacrifices, catcher interference, or being hit by the pitcher.\n",
    "\n",
    "R: Runs Scored. The number of times the batter scored a run.\n",
    "\n",
    "H: Hits. A safely hit ball that that allowed him to reach base safely.\n",
    "\n",
    "2B: Doubles. A hit (H) that allowed the batter to reach second base safely.\n",
    "\n",
    "3B: Triples. A hit (H) that allowed the batter to reach third base safely.\n",
    "\n",
    "HR: Home Runs. A hit (H) that allowed the batter to circle all the bases safely.\n",
    "\n",
    "GRSL: Grand Slams. A hit (H) that allowed the batter to circle all the bases (which were loaded with baserunners) safely.\n",
    "\n",
    "RBI: Runs Batted In. Earned by a batter when a runner scores due to a base hit, a sacrifice, being hit by a pitch, during an infield out (but not during a double play), or a fielder's choice.\n",
    "\n",
    "BB: Base on Balls. Stat awarded when a batter is awarded first base by the umpire for pitches called a ball by the umpire.\n",
    "\n",
    "IBB: Intentional Base on Balls. Counts the number of times a walk was issued with no intent of ever allowing a hit.\n",
    "\n",
    "SO: Strikeouts. Number of times called out on strikes by the umpire.\n",
    "\n",
    "SH: Sacrifice Hits. A ball hit that advanced the baserunner at the cost of being put out.\n",
    "\n",
    "SF: Sacrifice Fly. A sacrifice hit (SH) done with less than two outs, fair or foul, that allows one or more baserunners to tag up and score.\n",
    "\n",
    "HBP: Hit by Pitch(er). Total number of being struck by the pitcher whether or not it was intentional.\n",
    "\n",
    "GIDP: Ground Into Double Play. The number of times a ball hit by the batter started a double play (two outs).\n",
    "\n",
    "AVG: Batting Average. The player's total number of hits (H) divided by their total number of at-bats (AB).\n",
    "\n",
    "OBP: On Base Percentage. Determines what percentage of a player's plate appearances resulted in him reaching base safely. Calculated by adding hits (H) & base on balls (BB) & hit by pitch (HBP) then dividing that by the player's at-bats (AB) & base on balls (BB) & sacrifice fly (SF) and hit by pitch (HBP).\n",
    "\n",
    "SLG: Slugging Percentage. An offensive ability type stat calculated by taking the total bases `singles + 2 x doubles (2B) + 3 x triples (3B) + 4 x home runs (HR)` reached then dividing it by the number of at-bats (AB).\n",
    "\n",
    "BABIP: Batting Average on Balls in Play. `(H - HR)/(AB - K - HR + SF)`\n",
    "\n",
    "ISO: Isolated Power. `(1x2B + 2x3B + 3xHR) / At-bats OR Slugging percentage - Batting average`\n",
    "\n",
    "LIPS: Late-inning preassure situation. Late-inning pressure situations are defined as `any at-bat in the seventh inning or later where the batter's team trails by three runs or fewer, is tied or is ahead by only one run. If the bases are loaded and the batting team trails by four runs, this also counts as a late-inning pressure situation`.\n",
    "\n",
    "OPS+: On-base Plus Slugging Plus. `(OPS / league OPS, adjusted for park factors) x 100.` player's on-base plus slugging percentage and normalizes the number across the entire league\n",
    "\n",
    "PA/SO: Plate appearances per strikeout is a basic ratio determined by dividing a player's total plate appearances by his number of strikeouts. Hitters who don't strike out very much will have high PA/SO marks.\n",
    "\n",
    "P/PA: pitches per plate appearance. How many pitches are thrown per plate appearance\n",
    "\n",
    "RC: runs created. `TB x (H + BB) / (AB + BB)`\n",
    "\n",
    "wRAA: weighted runs above average `((wOBA - wOBA of the entire league) / annual wOBA scale) x PA`\n",
    "\n",
    "wOBA: Weighted On-base Average. `0.69 x uBB + 0.72 x HBP + 0.89. x 1B + 1.27 x 2B + 1.62 x 3B + 2.10 x HR / AB + BB - IBB + SF + HBP\n",
    "\n"
   ]
  },
  {
   "cell_type": "code",
   "execution_count": 62,
   "metadata": {},
   "outputs": [],
   "source": [
    "# converting to date time\n",
    "df.Date = pd.to_datetime(df.Date,format='%Y%m%d')"
   ]
  },
  {
   "cell_type": "code",
   "execution_count": 63,
   "metadata": {},
   "outputs": [],
   "source": [
    "# creating a game id that can be used for indetification of each game\n",
    "df['id'] = df['home_team']+df.Date.dt.year.astype('str') + df.Date.dt.month.astype('str') + df.Date.dt.day.astype('str')"
   ]
  },
  {
   "cell_type": "code",
   "execution_count": 64,
   "metadata": {},
   "outputs": [],
   "source": [
    "# creating year column for grouping\n",
    "df['year'] = df.Date.map(lambda x: x.year)"
   ]
  },
  {
   "cell_type": "code",
   "execution_count": 65,
   "metadata": {},
   "outputs": [],
   "source": [
    "# outcome of game in terms of home team  loosing (0) or winning (1)\n",
    "# have to change score to int\n",
    "df.home_team_score.astype('int')\n",
    "df.away_team_score.astype('int')\n",
    "cond = [\n",
    "    df.home_team_score > df.away_team_score,\n",
    "    df.away_team_score > df.home_team_score\n",
    "]\n",
    "outcome = [\n",
    "    1, # home wins\n",
    "    0  # away wins\n",
    "]\n",
    "df['home_outcome'] = np.select(cond,outcome,default = -1)"
   ]
  },
  {
   "cell_type": "code",
   "execution_count": 66,
   "metadata": {},
   "outputs": [],
   "source": [
    "# outcome of game in terms of away team  loosing (0) or winning (1)\n",
    "cond = [\n",
    "    df.away_team_score > df.home_team_score, # away wins\n",
    "    df.home_team_score > df.away_team_score  # home wins\n",
    "]\n",
    "outcome = [\n",
    "    1, # away wins\n",
    "    0  # home wins\n",
    "]\n",
    "df['away_outcome'] = np.select(cond,outcome,default = -1)"
   ]
  },
  {
   "cell_type": "code",
   "execution_count": 67,
   "metadata": {},
   "outputs": [],
   "source": [
    "# OBP = (Hits + Walks + Hit by Pitch) / (At Bats + Walks + Hit by Pitch + Sacrifice Flies)\n",
    "df['home_OBP'] = (df.home_hits + df.home_walk + df.home_hbp) / (df.home_at_bats + df.home_walk + df.home_hbp + df.home_sf)\n",
    "df['away_OBP'] = (df.away_hits + df.away_walk + df.away_hbp) / (df.away_at_bats + df.away_walk + df.away_hbp + df.away_sf)"
   ]
  },
  {
   "cell_type": "code",
   "execution_count": 68,
   "metadata": {},
   "outputs": [],
   "source": [
    "# AVG = hits / at bats\n",
    "df['home_AVG'] = df.home_hits / df.home_at_bats\n",
    "df['away_AVG'] = df.away_hits / df.away_at_bats"
   ]
  },
  {
   "cell_type": "code",
   "execution_count": 69,
   "metadata": {},
   "outputs": [],
   "source": [
    "# singles = hits - (doubles + triples + hr)\n",
    "df['home_singles'] = df.home_hits - (df.home_doubles + df.home_triples + df.home_hrs)\n",
    "df['away_singles'] = df.away_hits - (df.away_doubles + df.away_triples + df.away_hrs)"
   ]
  },
  {
   "cell_type": "code",
   "execution_count": 70,
   "metadata": {},
   "outputs": [],
   "source": [
    "# SLG = singles + 2 x doubles (2B) + 3 x triples (3B) + 4 x home runs (HR) / AB\n",
    "df['home_SLG'] = (df.home_singles + 2*df.home_doubles + 3*df.home_triples + 4*df.home_hrs) / df.home_at_bats\n",
    "df['away_SLG'] = (df.away_singles + 2*df.away_doubles + 3*df.away_triples + 4*df.away_hrs) / df.away_at_bats"
   ]
  },
  {
   "cell_type": "code",
   "execution_count": 71,
   "metadata": {},
   "outputs": [],
   "source": [
    "# BABIP = (H - HR)/(AB - K - HR + SF)\n",
    "df['home_BABIP'] = (df.home_hits - df.home_hrs) / (df.home_at_bats - df.home_so - df.home_hrs + df.home_sf)\n",
    "df['away_BABIP'] = (df.away_hits - df.away_hrs) / (df.away_at_bats - df.away_so - df.away_hrs + df.away_sf)"
   ]
  },
  {
   "cell_type": "code",
   "execution_count": 72,
   "metadata": {},
   "outputs": [],
   "source": [
    "# ISO = (1x2B + 2x3B + 3xHR) / At-bats OR Slugging percentage - Batting average\n",
    "df['home_ISO'] = df.home_SLG - df.home_AVG\n",
    "df['away_ISO'] = df.away_SLG - df.away_AVG"
   ]
  },
  {
   "cell_type": "code",
   "execution_count": 73,
   "metadata": {},
   "outputs": [],
   "source": [
    "# PA/SO = total plate appearances by his number of strikeouts\n",
    "df['home_PASO'] = df.home_at_bats / df.home_so\n",
    "df['away_PASO'] = df.away_at_bats / df.away_so"
   ]
  },
  {
   "cell_type": "code",
   "execution_count": 74,
   "metadata": {},
   "outputs": [],
   "source": [
    "# TB = 1x1B + 2x2B + 3x3B + 4x4B\n",
    "df['home_total_bases'] = df.home_singles + (2*df.home_doubles) + (3*df.home_triples) + (4*df.home_hrs)\n",
    "df['away_total_bases'] = df.away_singles + (2*df.away_doubles) + (3*df.away_triples) + (4*df.away_hrs)"
   ]
  },
  {
   "cell_type": "code",
   "execution_count": 75,
   "metadata": {},
   "outputs": [],
   "source": [
    "# RC = (TB x (H + BB)) / (AB + BB)\n",
    "df['home_runs_created'] = ( df.home_total_bases * (df.home_hits + df.home_walk)) / (df.home_at_bats + df.home_walk)\n",
    "df['away_runs_created'] = ( df.away_total_bases * (df.away_hits + df.away_walk)) / (df.away_at_bats + df.away_walk)"
   ]
  },
  {
   "cell_type": "code",
   "execution_count": 76,
   "metadata": {},
   "outputs": [],
   "source": [
    "# wOBA = 0.69 x NIzBB + 0.72 x HBP + 0.89. x 1B + 1.27 x 2B + 1.62 x 3B + 2.10 x HR / AB + BB - IBB + SF + HBP\n",
    "df['home_wOBA'] = ((0.69*df.home_walk)+(0.72 * df.home_hbp) + (0.89 * df.home_singles) + (1.27 * df.home_doubles) + (1.62 * df.home_triples) + (2.10 * df.home_hrs)) / (df.home_at_bats+df.home_walk - df.home_int_walk + df.home_sf + df.home_hbp)\n",
    "df['away_wOBA'] = ((0.69*df.away_walk)+(0.72 * df.away_hbp) + (0.89 * df.away_singles) + (1.27 * df.away_doubles) + (1.62 * df.away_triples) + (2.10 * df.away_hrs)) / (df.away_at_bats+df.away_walk - df.away_int_walk + df.away_sf + df.away_hbp)"
   ]
  },
  {
   "cell_type": "markdown",
   "metadata": {},
   "source": [
    "### Game Number of that Season\n",
    "It is important to assign what game number that is for that season as the cumulative stats should only be used after the first couple games (will be using games after the first 10)"
   ]
  },
  {
   "cell_type": "code",
   "execution_count": 77,
   "metadata": {},
   "outputs": [],
   "source": [
    "# creating an empty dictionary so that the games of each team can be split by year\n",
    "test_dict = {}\n",
    "team_list = df.home_team.unique()\n",
    "for year in year_list:\n",
    "    test_dict[year] = {}\n",
    "    for team in team_list:\n",
    "        test_dict[year][team] = []"
   ]
  },
  {
   "cell_type": "code",
   "execution_count": 78,
   "metadata": {},
   "outputs": [],
   "source": [
    "# inserting games into the correct container\n",
    "# sorted by year the team\n",
    "for index,row in df.iterrows():\n",
    "    test_dict[row.year][row.home_team].append(row.id)"
   ]
  },
  {
   "cell_type": "code",
   "execution_count": 79,
   "metadata": {},
   "outputs": [],
   "source": [
    "# iterating through each year/team and assigning the game number (1-81)\n",
    "df.game_number_of_season = ''\n",
    "for year in test_dict:\n",
    "    for team in test_dict[year]:\n",
    "        counter=1\n",
    "        for game in test_dict[year][team]:\n",
    "            df[(df.id == game)].game_number_of_season = counter\n",
    "            counter+=1"
   ]
  },
  {
   "cell_type": "markdown",
   "metadata": {},
   "source": [
    "## Won Previous Game"
   ]
  },
  {
   "cell_type": "code",
   "execution_count": 74,
   "metadata": {},
   "outputs": [],
   "source": [
    "# this is to determine if the home team won their last game\n",
    "home_won_last_game_column = []\n",
    "home_won_last_game_dict = {}\n",
    "# setting the teams outcomes to 0 for the first game as their was no previous game\n",
    "for team in team_list:\n",
    "    home_won_last_game_dict[team] = 0\n",
    "for index,row in df.iterrows():\n",
    "    # input num into row if they won last game\n",
    "    # home team that is going to be column\n",
    "    home_won_last_game_column.append(home_won_last_game_dict[row.home_team])\n",
    "    home_team_outcome = row.home_outcome\n",
    "    # seeing if they won their last game\n",
    "    if home_team_outcome == 1:\n",
    "        away_team_outcome = 0\n",
    "    elif home_team_outcome == -1:\n",
    "        away_team_outcome = -1\n",
    "    else:\n",
    "        away_team_outcome = 1\n",
    "    # change home team\n",
    "    home_won_last_game_dict[row.home_team] = home_team_outcome\n",
    "    # change away team\n",
    "    home_won_last_game_dict[row.away_team] = away_team_outcome"
   ]
  },
  {
   "cell_type": "code",
   "execution_count": 75,
   "metadata": {},
   "outputs": [],
   "source": [
    "df['home_won_last_game'] = home_won_last_game_column"
   ]
  },
  {
   "cell_type": "code",
   "execution_count": 76,
   "metadata": {},
   "outputs": [],
   "source": [
    "# this is to determine if the away team won their last game\n",
    "away_won_last_game_column = []\n",
    "away_won_last_game_dict = {}\n",
    "# same process for first game\n",
    "for team in team_list:\n",
    "    away_won_last_game_dict[team] = 0\n",
    "for index,row in df.iterrows():\n",
    "    # input num into row if they won last game\n",
    "    # home team that is going to be column\n",
    "    away_won_last_game_column.append(away_won_last_game_dict[row.away_team])\n",
    "    home_team_outcome = row.away_outcome\n",
    "    if home_team_outcome == 1:\n",
    "        away_team_outcome = 0\n",
    "    elif home_team_outcome == -1:\n",
    "        away_team_outcome = -1\n",
    "    else:\n",
    "        away_team_outcome = 1\n",
    "    # change home team\n",
    "    away_won_last_game_dict[row.away_team] = away_team_outcome\n",
    "    # change away team\n",
    "    away_won_last_game_dict[row.home_team] = home_team_outcome"
   ]
  },
  {
   "cell_type": "code",
   "execution_count": 77,
   "metadata": {},
   "outputs": [],
   "source": [
    "df['away_won_last_game'] = away_won_last_game_column"
   ]
  },
  {
   "cell_type": "markdown",
   "metadata": {},
   "source": [
    "## Win Next Game"
   ]
  },
  {
   "cell_type": "code",
   "execution_count": 78,
   "metadata": {},
   "outputs": [],
   "source": [
    "# this is going to be the target for the non-cumulative data set\n",
    "# did they win their next game\n",
    "# creating the blank dictionary split by year then team\n",
    "next_game_win_dict = {}\n",
    "for year in year_list:\n",
    "    next_game_win_dict[year] = {}\n",
    "    for team in team_list:\n",
    "        next_game_win_dict[year][team] = []"
   ]
  },
  {
   "cell_type": "code",
   "execution_count": 80,
   "metadata": {},
   "outputs": [],
   "source": [
    "# appending every game id and outcome to each team for their year\n",
    "# this will append the outcome of this game \n",
    "# you have the game id, then the outcome of that game\n",
    "for year in year_list:\n",
    "    for team in team_list:\n",
    "        for game in df[(df.Date.dt.year == year)&((df.home_team == team)|(df.away_team == team))][['id','home_outcome']].values.tolist():\n",
    "            next_game_win_dict[year][team].append([game[0],game[1]])"
   ]
  },
  {
   "cell_type": "code",
   "execution_count": 81,
   "metadata": {},
   "outputs": [],
   "source": [
    "# appending the outcome of the next game (doing this in reverse)\n",
    "# so game 81 is seen first and assigns the outcome of this game to game 80\n",
    "for year in year_list:\n",
    "    for team in team_list:\n",
    "        place_holder_outcome = -1\n",
    "        place_holder_team = ''\n",
    "        # starting from last game going to first\n",
    "        for game in next_game_win_dict[year][team][::-1]:\n",
    "            #print(team,game,place_holder_outcome)\n",
    "            # \n",
    "            if team in place_holder_team:\n",
    "                game.append(place_holder_outcome)\n",
    "            else:\n",
    "                if place_holder_outcome == 1:\n",
    "                    game.append(0)\n",
    "                else:\n",
    "                    game.append(1)\n",
    "            # making this games outcome the next games outcome for the previous game\n",
    "            place_holder_outcome = game[1]\n",
    "            place_holder_team = game[0][0:3]"
   ]
  },
  {
   "cell_type": "code",
   "execution_count": 82,
   "metadata": {},
   "outputs": [],
   "source": [
    "df['target'] = ''"
   ]
  },
  {
   "cell_type": "code",
   "execution_count": 83,
   "metadata": {
    "scrolled": true
   },
   "outputs": [
    {
     "name": "stderr",
     "output_type": "stream",
     "text": [
      "/opt/anaconda3/envs/learn-env/lib/python3.6/site-packages/ipykernel_launcher.py:5: SettingWithCopyWarning: \n",
      "A value is trying to be set on a copy of a slice from a DataFrame\n",
      "\n",
      "See the caveats in the documentation: http://pandas.pydata.org/pandas-docs/stable/user_guide/indexing.html#returning-a-view-versus-a-copy\n",
      "  \"\"\"\n"
     ]
    }
   ],
   "source": [
    "# this creates the column\n",
    "for year in year_list:\n",
    "    for team in team_list:\n",
    "        for game in next_game_win_dict[year][team]:\n",
    "            if team in game[0]:# only want home games\n",
    "                df.target[(df.id == game[0])] = game[2]"
   ]
  },
  {
   "cell_type": "markdown",
   "metadata": {},
   "source": [
    "Exporting to be used for MVP."
   ]
  },
  {
   "cell_type": "code",
   "execution_count": 84,
   "metadata": {},
   "outputs": [],
   "source": [
    "# has been done before so no need to recreate the df\n",
    "# IF FIRST TIME RUN UNCOMMENT BELOW <--------\n",
    "#df.to_csv('pbp_data_mvp_fix')"
   ]
  },
  {
   "cell_type": "markdown",
   "metadata": {},
   "source": [
    "# Play by play data to get data from each individual player (POST MVP WORK)\n",
    "\n",
    "Key:\n",
    "play[1], 1[2], 0[3], spand001[4], 22[5], CSBFFBFC[6], K[7]\n",
    "1. inning\n",
    "1. 0 = visiting team, 1. = home team\n",
    "1. player id\n",
    "1. the count ont eh batter when this even occured (a lot of games dont have this will be ??)\n",
    "1. contains all pitches to this batter in this plate appearence (left empty if unknown)\n",
    "1. the play or even that occured"
   ]
  },
  {
   "cell_type": "markdown",
   "metadata": {},
   "source": [
    "### What I am trying to achieve\n",
    "I am going to have to create the statistics for each player over every game."
   ]
  },
  {
   "cell_type": "markdown",
   "metadata": {},
   "source": [
    "This is an example of a single games play by play. It describes every major event in terms of batting. This can be decoded using https://www.retrosheet.org/eventfile.htm."
   ]
  },
  {
   "cell_type": "markdown",
   "metadata": {},
   "source": [
    "play,1,0,spand001,22,CSBFFBFC,K\n",
    "play,1,0,hudso001,01,FX,43/G-\n",
    "play,1,0,mauej001,11,CBX,43/G\n",
    "play,1,1,aybae001,32,BBCCFBFFFB,W\n",
    "play,1,1,abreb001,01,CX,8/F\n",
    "play,1,1,huntt001,00,B,WP.1-2\n",
    "play,1,1,huntt001,30,B.B2BB,W\n",
    "play,1,1,matsh001,02,CFX,6/P/IF\n",
    "play,1,1,morak001,11,BCX,S7/L.2-H;1-2\n",
    "play,1,1,rivej001,20,BBX,S8/G.2-H;1-2\n",
    "play,1,1,kendh001,32,CBFBB>X,8/L\n",
    "play,2,0,mornj001,32,CBBSBX,S5/G-\n",
    "play,2,0,cuddm001,12,BFFS,K\n",
    "play,2,0,kubej002,32,BBF*BFFX,8/F\n",
    "play,2,0,yound003,11,CBX,HR/7/F.1-H\n",
    "play,2,0,hardj003,02,CSX,13/G\n",
    "play,2,1,woodb003,12,CBCS,K\n",
    "play,2,1,mathj001,00,X,HR/8/L\n",
    "play,2,1,aybae001,22,CBBSX,53/G\n",
    "play,2,1,abreb001,12,CBFFX,4/P\n",
    "play,3,0,puntn001,10,BX,7/F\n",
    "play,3,0,spand001,22,BBCFFS,K\n",
    "play,3,0,hudso001,10,BX,D8/F+\n",
    "play,3,0,mauej001,12,CC*BC,K\n",
    "play,3,1,huntt001,12,CBFS,K\n",
    "play,3,1,matsh001,10,BX,6/L\n",
    "play,3,1,morak001,21,CBBX,8/F\n",
    "play,4,0,mornj001,22,FBBSC,K\n",
    "play,4,0,cuddm001,12,BCFX,53/G\n",
    "play,4,0,kubej002,32,BSCBBS,K\n",
    "play,4,1,rivej001,11,BFX,7/F\n",
    "play,4,1,kendh001,22,BFCBFX,43/G\n",
    "play,4,1,woodb003,32,BBCBSFS,K\n",
    "play,5,0,yound003,11,SBX,S2/G-\n",
    "play,5,0,hardj003,31,B1FB1B+1>S,SB2\n",
    "play,5,0,hardj003,32,B1FB1B+1>S.X,43/G.2-3\n",
    "play,5,0,puntn001,01,FX,8/SF/F.3-H\n",
    "play,5,0,spand001,00,X,63/G\n",
    "play,5,1,mathj001,00,X,7/F\n",
    "play,5,1,aybae001,12,CBFFFX,S4/G\n",
    "play,5,1,abreb001,20,B11BX,5/P\n",
    "play,5,1,huntt001,32,*BBF1SB>F>B,W.1-2\n",
    "play,5,1,matsh001,02,CFX,S9/L.2-H;1-3\n",
    "play,5,1,morak001,00,,NP\n",
    "sub,craij001,\"Jesse Crain\",0,0,1\n",
    "play,5,1,morak001,22,.CBFBX,13/G-\n",
    "play,6,0,hudso001,20,BBX,8/F\n",
    "play,6,0,mauej001,00,X,43/G\n",
    "play,6,0,mornj001,30,BBBB,W\n",
    "play,6,0,cuddm001,01,FX,S8/F-.1-2\n",
    "play,6,0,kubej002,31,SBBBB,W.2-3;1-2\n",
    "play,6,0,yound003,10,*BX,7/F\n",
    "play,6,1,rivej001,11,CBX,53/G\n",
    "play,6,1,kendh001,32,BBFFBFX,4/P\n",
    "play,6,1,woodb003,02,CFS,K\n",
    "play,7,0,hardj003,00,,NP\n",
    "sub,jepsk001,\"Kevin Jepsen\",1,0,1\n",
    "play,7,0,hardj003,22,.CBFBX,S8/L\n",
    "play,7,0,puntn001,00,,NP\n",
    "sub,thomj002,\"Jim Thome\",0,9,11\n",
    "play,7,0,thomj002,10,.BX,13/G.1-2\n",
    "play,7,0,spand001,22,CS*BBS,K\n",
    "play,7,0,hudso001,12,*BCSH,HP\n",
    "play,7,0,mauej001,02,CFX,S16/G.2-3;1-2\n",
    "play,7,0,mornj001,32,SFFBFBB>F>F>X,3/L\n",
    "play,7,1,mathj001,00,,NP\n",
    "sub,harrb001,\"Brendan Harris\",0,9,5\n",
    "play,7,1,mathj001,11,.CBX,4/P-\n",
    "play,7,1,aybae001,00,,NP\n",
    "sub,mijaj001,\"Jose Mijares\",0,0,1\n",
    "play,7,1,aybae001,11,.CBX,S8/G\n",
    "play,7,1,abreb001,11,CB11X,8/F\n",
    "play,7,1,huntt001,11,BC1X,9/F\n",
    "play,8,0,cuddm001,00,,NP\n",
    "sub,rodnf001,\"Fernando Rodney\",1,0,1\n",
    "play,8,0,cuddm001,30,.BBBB,W\n",
    "play,8,0,kubej002,31,BBC1BX,4/P\n",
    "play,8,0,yound003,00,X,64(1)3/GDP\n",
    "play,8,1,matsh001,12,BCFFX,HR/89/F\n",
    "play,8,1,morak001,01,CX,HR/7/F\n",
    "play,8,1,rivej001,00,,NP\n",
    "sub,neshp001,\"Pat Neshek\",0,0,1\n",
    "play,8,1,rivej001,11,.BCX,8/F\n",
    "play,8,1,kendh001,00,X,S94/F\n",
    "play,8,1,woodb003,01,FX,5/P5F\n",
    "play,8,1,mathj001,00,11>C,SB2\n",
    "play,8,1,mathj001,02,11>C.SFS,K\n",
    "play,9,0,hardj003,00,,NP\n",
    "sub,fuenb001,\"Brian Fuentes\",1,0,1\n",
    "play,9,0,hardj003,12,.BCFS,K\n",
    "play,9,0,harrb001,12,CBFX,9/F9LF\n",
    "play,9,0,spand001,01,CX,9/F\n",
    "data,er,bakes002,4\n",
    "data,er,craij001,0\n",
    "data,er,mijaj001,2\n",
    "data,er,neshp001,0\n",
    "data,er,weavj003,3\n",
    "data,er,jepsk001,0\n",
    "data,er,rodnf001,0\n",
    "data,er,fuenb001,0\n",
    "id,ANA201004060"
   ]
  },
  {
   "cell_type": "code",
   "execution_count": null,
   "metadata": {},
   "outputs": [],
   "source": [
    "def pbp_text_to_matrix(text):\n",
    "    # opening play by files and creating dataframe\n",
    "    # dummy lists for holding values\n",
    "    player_list = []\n",
    "    event_list = []\n",
    "    sub_list = []\n",
    "    earned_runs_list = []\n",
    "    row = []\n",
    "    matrix = []\n",
    "    info_tags_to_ignore = ['howscored','oscorer']\n",
    "    # flags for statements\n",
    "    start_list_flag = 0\n",
    "    play_list_flag = 0\n",
    "    earned_runs_list_flag = 0\n",
    "    # itearte through pbp file\n",
    "    for line in text:\n",
    "        # get id\n",
    "        if re.match('^id,\\w{3}\\d{4}',line):\n",
    "            if earned_runs_list_flag == 1:\n",
    "                row.append(earned_runs_list)\n",
    "                matrix.append(row)\n",
    "                row = []\n",
    "                player_list = []\n",
    "                event_list = []\n",
    "                sub_list = []\n",
    "                earned_runs_list = []\n",
    "                earned_runs_list_flag = 0\n",
    "            row.append(line.split(',')[-1])\n",
    "        # get gen info\n",
    "        if 'info,' in line:\n",
    "            # append each info 1 by 1\n",
    "            if line.split(',')[1] not in info_tags_to_ignore:\n",
    "                row.append(line.split(',')[-1])\n",
    "\n",
    "        # get start info\n",
    "        if 'start,' in line:\n",
    "            start_list_flag = 1\n",
    "            # start the player list and append the whole list\n",
    "            # after we finish seeing start and see the first 'play' line\n",
    "            player_list.append(line.split(',')[1:])\n",
    "\n",
    "        # get play by play ingo\n",
    "        if 'play,' in line:\n",
    "            # see the first play and append the list\n",
    "            if start_list_flag == 1:\n",
    "                row.append(player_list)\n",
    "                start_list_flag = 0\n",
    "            event_list.append(line.split(',')[1:])\n",
    "            play_list_flag = 1\n",
    "\n",
    "        # substitutions\n",
    "        if 'sub,' in line:\n",
    "            sub_list.append(line.split(',')[1:])\n",
    "\n",
    "        if 'data,' in line:\n",
    "            earned_runs_list_flag = 1\n",
    "            # see our first data so we append both sub and event list to row\n",
    "            if play_list_flag == 1:\n",
    "                row.append(event_list)\n",
    "                row.append(sub_list)\n",
    "                play_list_flag = 0\n",
    "            earned_runs_list.append(line.split(',')[2:])\n",
    "    return matrix"
   ]
  },
  {
   "cell_type": "code",
   "execution_count": null,
   "metadata": {},
   "outputs": [],
   "source": [
    "def pbp_file_to_matrix(pbp_file_name):\n",
    "    url = 'data/retro_data/play_by_play/{}'.format(pbp_file_name)\n",
    "    file = open(url)\n",
    "    try:\n",
    "        text = file.read()\n",
    "    except:\n",
    "        print('Fail: ',pbp_file_name)\n",
    "    text = text.split('\\n')\n",
    "    matrix = pbp_text_to_matrix(text)\n",
    "    return matrix"
   ]
  },
  {
   "cell_type": "code",
   "execution_count": null,
   "metadata": {},
   "outputs": [],
   "source": [
    "# these will be the columns of the play by play dataframe\n",
    "columns_pbp = ['id','visteam','hometeam','site','date','number',\n",
    "                           'starttime','daynight','usedh',\n",
    "                           'umphome','ump1b','ump2b','ump3b','pitches',\n",
    "                           'temp','winddir','windspeed','fieldcond','precip','sky','timeofgame','attendance',\n",
    "                           'wp','lp','save','player_list','event_list','sub_list','earned_runs_report']"
   ]
  },
  {
   "cell_type": "code",
   "execution_count": null,
   "metadata": {},
   "outputs": [],
   "source": [
    "pbp_files = []\n",
    "rows_to_test= []"
   ]
  },
  {
   "cell_type": "code",
   "execution_count": null,
   "metadata": {
    "scrolled": true
   },
   "outputs": [],
   "source": [
    "# creating df\n",
    "pbp_df = pd.DataFrame(columns=columns_pbp)\n",
    "# path to play by play\n",
    "pbp_folder_path = 'data/retro_data/play_by_play'\n",
    "# getting all file names\n",
    "pbp_files_w_2020 = listdir(pbp_folder_path)\n",
    "# taking out 2020 games for now\n",
    "for file in pbp_files_w_2020:\n",
    "    if '2020' not in file:\n",
    "        pbp_files.append(file)\n",
    "# add each game to df\n",
    "for file in pbp_files:\n",
    "    if '.EV' in file:\n",
    "        print(file)\n",
    "        matrix = pbp_file_to_matrix(file)\n",
    "        for row in matrix:\n",
    "            #series_to_append = pd.Series(row,index=pbp_df.columns)\n",
    "            try:\n",
    "                series_to_append = pd.Series(row,index=pbp_df.columns)\n",
    "            except:\n",
    "                rows_to_test.append(row)\n",
    "                break\n",
    "            pbp_df = pbp_df.append(series_to_append,ignore_index=True)"
   ]
  },
  {
   "cell_type": "code",
   "execution_count": null,
   "metadata": {
    "scrolled": false
   },
   "outputs": [],
   "source": [
    "len(rows_to_test[0])"
   ]
  },
  {
   "cell_type": "markdown",
   "metadata": {},
   "source": [
    "One row was left off due to having a strange info row that was not present in any other file."
   ]
  },
  {
   "cell_type": "code",
   "execution_count": null,
   "metadata": {
    "scrolled": false
   },
   "outputs": [],
   "source": [
    "pbp_df.shape"
   ]
  },
  {
   "cell_type": "code",
   "execution_count": null,
   "metadata": {},
   "outputs": [],
   "source": [
    "pbp_df = pbp_df.applymap(lambda x: \"WAS\" if x=='MON'else ('MIA' if x=='FLO' else x))"
   ]
  },
  {
   "cell_type": "code",
   "execution_count": null,
   "metadata": {},
   "outputs": [],
   "source": [
    "# creatinga. csv with this data\n",
    "#pbp_df.to_csv('pbp_df')"
   ]
  },
  {
   "cell_type": "code",
   "execution_count": null,
   "metadata": {},
   "outputs": [],
   "source": [
    "pbp_df[(pbp_df.id == 'SEA200709261')]"
   ]
  }
 ],
 "metadata": {
  "kernelspec": {
   "display_name": "learn-env",
   "language": "python",
   "name": "learn-env"
  },
  "language_info": {
   "codemirror_mode": {
    "name": "ipython",
    "version": 3
   },
   "file_extension": ".py",
   "mimetype": "text/x-python",
   "name": "python",
   "nbconvert_exporter": "python",
   "pygments_lexer": "ipython3",
   "version": "3.6.9"
  }
 },
 "nbformat": 4,
 "nbformat_minor": 4
}
